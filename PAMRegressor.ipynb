{
 "cells": [
  {
   "cell_type": "code",
   "execution_count": 1,
   "metadata": {},
   "outputs": [
    {
     "name": "stdout",
     "output_type": "stream",
     "text": [
      "\n",
      "System:\n",
      "    python: 3.7.0 (default, Jun 28 2018, 08:04:48) [MSC v.1912 64 bit (AMD64)]\n",
      "executable: c:\\programdata\\miniconda3\\python.exe\n",
      "   machine: Windows-10-10.0.18362-SP0\n",
      "\n",
      "Python dependencies:\n",
      "          pip: 20.1.1\n",
      "   setuptools: 40.2.0\n",
      "      sklearn: 0.23.1\n",
      "        numpy: 1.16.0\n",
      "        scipy: 1.2.0\n",
      "       Cython: 0.29.16\n",
      "       pandas: 0.24.0\n",
      "   matplotlib: 3.0.2\n",
      "       joblib: 0.14.1\n",
      "threadpoolctl: 2.1.0\n",
      "\n",
      "Built with OpenMP: True\n"
     ]
    }
   ],
   "source": [
    "import sklearn\n",
    "sklearn.show_versions()"
   ]
  },
  {
   "cell_type": "code",
   "execution_count": null,
   "metadata": {},
   "outputs": [],
   "source": [
    "import numpy as np\n",
    "import pandas as pd\n",
    "import matplotlib.pyplot as plt\n",
    "import seaborn as sns\n",
    "import keras\n",
    "from sklearn.metrics import mean_squared_error, mean_absolute_error, r2_score\n",
    "from sklearn.metrics import explained_variance_score, max_error\n",
    "from sklearn.metrics import mean_squared_log_error, median_absolute_error\n",
    "from sklearn import ensemble\n",
    "from sklearn.ensemble import RandomForestRegressor\n",
    "from sklearn import preprocessing\n",
    "import pickle"
   ]
  },
  {
   "cell_type": "code",
   "execution_count": 3,
   "metadata": {},
   "outputs": [],
   "source": [
    "train_data= pd.read_csv('PAM_train.csv')\n",
    "test_data=pd.read_csv('PAM_test.csv')"
   ]
  },
  {
   "cell_type": "code",
   "execution_count": 4,
   "metadata": {},
   "outputs": [
    {
     "data": {
      "text/plain": [
       "(13096, 29)"
      ]
     },
     "execution_count": 4,
     "metadata": {},
     "output_type": "execute_result"
    }
   ],
   "source": [
    "test_data.shape"
   ]
  },
  {
   "cell_type": "code",
   "execution_count": 5,
   "metadata": {},
   "outputs": [],
   "source": [
    "col_drop = ['UnitNumber', 'Cycle','Failure', 'Op_Setting_3', 'Sensor_1', 'Sensor_5', \n",
    "            'Sensor_10', 'Sensor_16', 'Sensor_18', 'Sensor_19'] "
   ]
  },
  {
   "cell_type": "code",
   "execution_count": 6,
   "metadata": {},
   "outputs": [
    {
     "data": {
      "text/plain": [
       "Index(['UnitNumber', 'Cycle', 'Op_Setting_1', 'Op_Setting_2', 'Op_Setting_3',\n",
       "       'Sensor_1', 'Sensor_2', 'Sensor_3', 'Sensor_4', 'Sensor_5', 'Sensor_6',\n",
       "       'Sensor_7', 'Sensor_8', 'Sensor_9', 'Sensor_10', 'Sensor_11',\n",
       "       'Sensor_12', 'Sensor_13', 'Sensor_14', 'Sensor_15', 'Sensor_16',\n",
       "       'Sensor_17', 'Sensor_18', 'Sensor_19', 'Sensor_20', 'Sensor_21',\n",
       "       'Target_RUL', 'Failure', 'Cycle_norm'],\n",
       "      dtype='object')"
      ]
     },
     "execution_count": 6,
     "metadata": {},
     "output_type": "execute_result"
    }
   ],
   "source": [
    "train_data.columns"
   ]
  },
  {
   "cell_type": "code",
   "execution_count": 7,
   "metadata": {},
   "outputs": [],
   "source": [
    "def process_cols(df):\n",
    "    t_df = df.drop(col_drop, axis = 1)\n",
    "    print(t_df.shape)\n",
    "    # set up features and target variable \n",
    "    t_Y = t_df['Target_RUL']\n",
    "    t_X = t_df.drop(['Target_RUL'], axis = 1)\n",
    "    \n",
    "    return t_X, t_Y"
   ]
  },
  {
   "cell_type": "code",
   "execution_count": 8,
   "metadata": {},
   "outputs": [
    {
     "name": "stdout",
     "output_type": "stream",
     "text": [
      "(20631, 19)\n"
     ]
    }
   ],
   "source": [
    "X, Y = process_cols(train_data)\n",
    "#test_X, test_Y = process_cols(test_data)"
   ]
  },
  {
   "cell_type": "code",
   "execution_count": 9,
   "metadata": {},
   "outputs": [],
   "source": [
    "from sklearn.model_selection import train_test_split\n",
    "train_X, test_X, train_Y, test_Y = train_test_split(X, Y, test_size=0.15, random_state=1234)"
   ]
  },
  {
   "cell_type": "code",
   "execution_count": 10,
   "metadata": {},
   "outputs": [],
   "source": [
    "def createOutParam(modelName, testX, testY, predY):\n",
    "    mse = mean_squared_error(testY, predY)\n",
    "    mae = mean_absolute_error(testY, predY)\n",
    "    rsquared = r2_score(testY, predY)\n",
    "    explained_variance =  explained_variance_score(testY, predY)\n",
    "    max_err = max_error(testY, predY)\n",
    "    rmse = np.sqrt(mean_squared_error(testY, predY))\n",
    "   # msle = mean_squared_log_error(testY, predY)\n",
    "    medianae = median_absolute_error(testY, predY)\n",
    "    model_perf = {'ModelName': modelName,\n",
    "                  'explained_variance' : explained_variance,\n",
    "                  'mean_absolute_error': mae,\n",
    "                  'median_absolute_error':medianae,\n",
    "                  'max_error':max_err,\n",
    "                  'R_squared': rsquared,\n",
    "                  'mean_squared_error': mse,\n",
    "                  'root_mean_squared_error':rmse,\n",
    "                 # 'mean_squared_log_error':msle\n",
    "                 }        \n",
    "    return model_perf"
   ]
  },
  {
   "cell_type": "code",
   "execution_count": 11,
   "metadata": {},
   "outputs": [],
   "source": [
    "model_perf = []"
   ]
  },
  {
   "cell_type": "markdown",
   "metadata": {},
   "source": [
    "## Model # 1 : RandomForestRegressor"
   ]
  },
  {
   "cell_type": "code",
   "execution_count": 12,
   "metadata": {},
   "outputs": [
    {
     "name": "stdout",
     "output_type": "stream",
     "text": [
      "Fitting 10 folds for each of 30 candidates, totalling 300 fits\n"
     ]
    },
    {
     "name": "stderr",
     "output_type": "stream",
     "text": [
      "[Parallel(n_jobs=-1)]: Using backend LokyBackend with 4 concurrent workers.\n",
      "[Parallel(n_jobs=-1)]: Done  42 tasks      | elapsed:  3.1min\n",
      "[Parallel(n_jobs=-1)]: Done 192 tasks      | elapsed: 13.1min\n",
      "[Parallel(n_jobs=-1)]: Done 300 out of 300 | elapsed: 21.0min finished\n"
     ]
    },
    {
     "name": "stdout",
     "output_type": "stream",
     "text": [
      "Pipeline(steps=[('standardize', StandardScaler()),\n",
      "                ('model',\n",
      "                 RandomForestRegressor(max_depth=12, min_samples_leaf=10))])\n",
      "Random Forest Mean Squared Error:  1286.8095958034892\n",
      "Random Forest Mean Absolute Error:  25.285723228010845\n",
      "Random Forest r-squared:  0.7252980965958917\n"
     ]
    }
   ],
   "source": [
    "from sklearn import ensemble\n",
    "from sklearn.ensemble import RandomForestRegressor\n",
    "from sklearn import preprocessing\n",
    "rf = ensemble.RandomForestRegressor()\n",
    "# set up 10-fold cross-validation\n",
    "from sklearn import model_selection\n",
    "cv = model_selection.KFold(10)\n",
    "# pipeline standardization and model\n",
    "from sklearn.pipeline import Pipeline\n",
    "pipeline = Pipeline(steps=[('standardize', preprocessing.StandardScaler())\n",
    "                           , ('model', rf) ])\n",
    "# tune the model\n",
    "my_min_samples_leaf = [2, 10, 25, 50, 100]\n",
    "my_max_depth = [7, 8, 9, 10, 11, 12]\n",
    "# run the model using gridsearch, select the model with best search\n",
    "from sklearn.model_selection import GridSearchCV\n",
    "optimized_rf = GridSearchCV(estimator=pipeline\n",
    "                            , cv=cv\n",
    "                            , param_grid =dict(model__min_samples_leaf = my_min_samples_leaf, model__max_depth = my_max_depth)\n",
    "                            , scoring = 'neg_mean_squared_error'\n",
    "                            , verbose = 1\n",
    "                            , n_jobs = -1\n",
    "                           )\n",
    "optimized_rf.fit(train_X, train_Y)\n",
    "# show the best model estimators\n",
    "print(optimized_rf.best_estimator_)\n",
    "# evaluate metrics on holdout\n",
    "from sklearn.metrics import mean_squared_error, mean_absolute_error, r2_score\n",
    "y_pred = optimized_rf.predict(test_X)\n",
    "print(\"Random Forest Mean Squared Error: \", mean_squared_error(test_Y, y_pred))\n",
    "print(\"Random Forest Mean Absolute Error: \", mean_absolute_error(test_Y, y_pred))\n",
    "print(\"Random Forest r-squared: \", r2_score(test_Y, y_pred))"
   ]
  },
  {
   "cell_type": "code",
   "execution_count": 13,
   "metadata": {},
   "outputs": [],
   "source": [
    "y_pred_rf = optimized_rf.predict(test_X)\n",
    "model_perf_rf = createOutParam('RandomForestRegressor', test_X, test_Y, y_pred_rf)"
   ]
  },
  {
   "cell_type": "code",
   "execution_count": 14,
   "metadata": {},
   "outputs": [
    {
     "data": {
      "text/plain": [
       "{'ModelName': 'RandomForestRegressor',\n",
       " 'explained_variance': 0.7253156492712516,\n",
       " 'mean_absolute_error': 25.285723228010845,\n",
       " 'median_absolute_error': 17.499859903110888,\n",
       " 'max_error': 156.99759740052946,\n",
       " 'R_squared': 0.7252980965958917,\n",
       " 'mean_squared_error': 1286.8095958034892,\n",
       " 'root_mean_squared_error': 35.87212839801242}"
      ]
     },
     "execution_count": 14,
     "metadata": {},
     "output_type": "execute_result"
    }
   ],
   "source": [
    "model_perf.append(model_perf_rf)\n",
    "model_perf_rf"
   ]
  },
  {
   "cell_type": "markdown",
   "metadata": {},
   "source": [
    "## Model # 2 : Elastic Net"
   ]
  },
  {
   "cell_type": "code",
   "execution_count": 15,
   "metadata": {},
   "outputs": [
    {
     "name": "stdout",
     "output_type": "stream",
     "text": [
      "Fitting 10 folds for each of 15 candidates, totalling 150 fits\n"
     ]
    },
    {
     "name": "stderr",
     "output_type": "stream",
     "text": [
      "[Parallel(n_jobs=-1)]: Using backend LokyBackend with 4 concurrent workers.\n",
      "[Parallel(n_jobs=-1)]: Done  42 tasks      | elapsed:    3.4s\n",
      "[Parallel(n_jobs=-1)]: Done 150 out of 150 | elapsed:    9.1s finished\n"
     ]
    },
    {
     "name": "stdout",
     "output_type": "stream",
     "text": [
      "Pipeline(steps=[('standardize', StandardScaler()),\n",
      "                ('model', ElasticNet(alpha=0.01, l1_ratio=0.505))])\n",
      "GLM Elastic Net Mean Squared Error:  1286.8095958034892\n",
      "GLM Elastic Net Mean Absolute Error:  25.285723228010845\n",
      "GLM Elastic Net r-squared:  0.7252980965958917\n"
     ]
    }
   ],
   "source": [
    "# Elastic Net GLM\n",
    "# create holdout\n",
    "\n",
    "from sklearn.linear_model import ElasticNet\n",
    "glm_net = ElasticNet()\n",
    "\n",
    "# set up 10-fold cross-validation\n",
    "from sklearn import model_selection\n",
    "cv = model_selection.KFold(10)\n",
    "# pipeline standardization and model\n",
    "from sklearn.pipeline import Pipeline\n",
    "pipeline = Pipeline(steps=[('standardize', preprocessing.StandardScaler())\n",
    "                           , ('model', glm_net) ])\n",
    "# tune the model\n",
    "my_alpha = np.linspace(.01, 1, num=5)\n",
    "my_l1_ratio = np.linspace(.01, 1, num=3)\n",
    "# run the model using gridsearch, select the model with best search\n",
    "from sklearn.model_selection import GridSearchCV\n",
    "optimized_glm_net = GridSearchCV(estimator=pipeline\n",
    "                            , cv=cv\n",
    "                            , param_grid =dict(model__l1_ratio = my_l1_ratio, model__alpha = my_alpha)\n",
    "                            , scoring = 'neg_mean_squared_error'\n",
    "                            , verbose = 1\n",
    "                            , n_jobs = -1\n",
    "                           )\n",
    "optimized_glm_net.fit(train_X, train_Y)\n",
    "# show the best model estimators\n",
    "print(optimized_glm_net.best_estimator_)\n",
    "y_pred_net = optimized_glm_net.predict(test_X)\n",
    "print(\"GLM Elastic Net Mean Squared Error: \", mean_squared_error(test_Y, y_pred))\n",
    "print(\"GLM Elastic Net Mean Absolute Error: \", mean_absolute_error(test_Y, y_pred))\n",
    "print(\"GLM Elastic Net r-squared: \", r2_score(test_Y, y_pred))"
   ]
  },
  {
   "cell_type": "code",
   "execution_count": 16,
   "metadata": {},
   "outputs": [],
   "source": [
    "y_pred_elnet = optimized_glm_net.predict(test_X)\n",
    "model_perf_glm_net = createOutParam('ElasticNet', test_X, test_Y, y_pred_elnet)\n"
   ]
  },
  {
   "cell_type": "code",
   "execution_count": 17,
   "metadata": {},
   "outputs": [
    {
     "data": {
      "text/plain": [
       "[{'ModelName': 'RandomForestRegressor',\n",
       "  'explained_variance': 0.7253156492712516,\n",
       "  'mean_absolute_error': 25.285723228010845,\n",
       "  'median_absolute_error': 17.499859903110888,\n",
       "  'max_error': 156.99759740052946,\n",
       "  'R_squared': 0.7252980965958917,\n",
       "  'mean_squared_error': 1286.8095958034892,\n",
       "  'root_mean_squared_error': 35.87212839801242},\n",
       " {'ModelName': 'ElasticNet',\n",
       "  'explained_variance': 0.6484865452146342,\n",
       "  'mean_absolute_error': 31.158948268857973,\n",
       "  'median_absolute_error': 25.982292588273367,\n",
       "  'max_error': 175.4652973870921,\n",
       "  'R_squared': 0.6484864344961769,\n",
       "  'mean_squared_error': 1646.6250271298743,\n",
       "  'root_mean_squared_error': 40.578627713734654}]"
      ]
     },
     "execution_count": 17,
     "metadata": {},
     "output_type": "execute_result"
    }
   ],
   "source": [
    "model_perf.append(model_perf_glm_net)\n",
    "model_perf"
   ]
  },
  {
   "cell_type": "markdown",
   "metadata": {},
   "source": [
    "## Model # 3 : Support Vector Machine Regressor"
   ]
  },
  {
   "cell_type": "code",
   "execution_count": 18,
   "metadata": {},
   "outputs": [
    {
     "name": "stdout",
     "output_type": "stream",
     "text": [
      "Fitting 10 folds for each of 3 candidates, totalling 30 fits\n"
     ]
    },
    {
     "name": "stderr",
     "output_type": "stream",
     "text": [
      "[Parallel(n_jobs=-1)]: Using backend LokyBackend with 4 concurrent workers.\n",
      "[Parallel(n_jobs=-1)]: Done  30 out of  30 | elapsed:  4.4min finished\n"
     ]
    },
    {
     "name": "stdout",
     "output_type": "stream",
     "text": [
      "Pipeline(steps=[('standardize', StandardScaler()),\n",
      "                ('model', SVR(C=1, epsilon=0.15))])\n"
     ]
    }
   ],
   "source": [
    "from sklearn import svm\n",
    "from sklearn.svm import SVR\n",
    "svm = svm.SVR()\n",
    "# set up 10-fold cross-validation\n",
    "from sklearn import model_selection\n",
    "cv = model_selection.KFold(10)\n",
    "# pipeline standardization and model\n",
    "from sklearn.pipeline import Pipeline\n",
    "pipeline = Pipeline(steps=[('standardize', preprocessing.StandardScaler())\n",
    "                           , ('model', svm) ])\n",
    "# tune the model\n",
    "my_C = [1]\n",
    "my_epsilon = [.05, .1, .15]\n",
    "# run the model using gridsearch, select the model with best search\n",
    "from sklearn.model_selection import GridSearchCV\n",
    "optimized_svm = GridSearchCV(estimator=pipeline\n",
    "                            , cv=cv\n",
    "                            , param_grid =dict(model__C = my_C, model__epsilon = my_epsilon)\n",
    "                            , scoring = 'neg_mean_squared_error'\n",
    "                            , verbose = 1\n",
    "                            , n_jobs = -1\n",
    "                           )\n",
    "optimized_svm.fit(train_X, train_Y)\n",
    "# show the best model estimators\n",
    "print(optimized_svm.best_estimator_)\n",
    "# evaluate metrics on holdout\n",
    "from sklearn.metrics import mean_squared_error, mean_absolute_error, r2_score\n",
    "y_pred_svm = optimized_svm.predict(test_X)\n",
    "#print(\"SVM Mean Squared Error: \", mean_squared_error(test_Y, y_pred))\n",
    "#print(\"SVM Mean Absolute Error: \", mean_absolute_error(test_Y, y_pred))\n",
    "#print(\"SVM r-squared: \", r2_score(test_Y, y_pred))"
   ]
  },
  {
   "cell_type": "code",
   "execution_count": 19,
   "metadata": {},
   "outputs": [
    {
     "data": {
      "text/plain": [
       "[{'ModelName': 'RandomForestRegressor',\n",
       "  'explained_variance': 0.7253156492712516,\n",
       "  'mean_absolute_error': 25.285723228010845,\n",
       "  'median_absolute_error': 17.499859903110888,\n",
       "  'max_error': 156.99759740052946,\n",
       "  'R_squared': 0.7252980965958917,\n",
       "  'mean_squared_error': 1286.8095958034892,\n",
       "  'root_mean_squared_error': 35.87212839801242},\n",
       " {'ModelName': 'ElasticNet',\n",
       "  'explained_variance': 0.6484865452146342,\n",
       "  'mean_absolute_error': 31.158948268857973,\n",
       "  'median_absolute_error': 25.982292588273367,\n",
       "  'max_error': 175.4652973870921,\n",
       "  'R_squared': 0.6484864344961769,\n",
       "  'mean_squared_error': 1646.6250271298743,\n",
       "  'root_mean_squared_error': 40.578627713734654},\n",
       " {'ModelName': 'SVM_Regressor',\n",
       "  'explained_variance': 0.6887975104851101,\n",
       "  'mean_absolute_error': 26.834332579995383,\n",
       "  'median_absolute_error': 17.682102178812983,\n",
       "  'max_error': 182.32421107266794,\n",
       "  'R_squared': 0.6791436811906638,\n",
       "  'mean_squared_error': 1503.0146671778123,\n",
       "  'root_mean_squared_error': 38.768733112881215}]"
      ]
     },
     "execution_count": 19,
     "metadata": {},
     "output_type": "execute_result"
    }
   ],
   "source": [
    "y_pred_svm = optimized_svm.predict(test_X)\n",
    "model_perf_svm = createOutParam('SVM_Regressor', test_X, test_Y, y_pred_svm)\n",
    "model_perf.append(model_perf_svm)\n",
    "model_perf"
   ]
  },
  {
   "cell_type": "markdown",
   "metadata": {},
   "source": [
    "## Model # 4 Gradient Boosting Regressor"
   ]
  },
  {
   "cell_type": "code",
   "execution_count": 20,
   "metadata": {},
   "outputs": [
    {
     "name": "stdout",
     "output_type": "stream",
     "text": [
      "Fitting 5 folds for each of 24 candidates, totalling 120 fits\n"
     ]
    },
    {
     "name": "stderr",
     "output_type": "stream",
     "text": [
      "[Parallel(n_jobs=-1)]: Using backend LokyBackend with 4 concurrent workers.\n",
      "[Parallel(n_jobs=-1)]: Done   5 tasks      | elapsed:   53.2s\n",
      "[Parallel(n_jobs=-1)]: Done  10 tasks      | elapsed:  1.8min\n",
      "[Parallel(n_jobs=-1)]: Done  17 tasks      | elapsed:  3.4min\n",
      "[Parallel(n_jobs=-1)]: Done  24 tasks      | elapsed:  4.9min\n",
      "[Parallel(n_jobs=-1)]: Done  33 tasks      | elapsed:  8.1min\n",
      "[Parallel(n_jobs=-1)]: Done  42 tasks      | elapsed: 11.7min\n",
      "[Parallel(n_jobs=-1)]: Done  53 tasks      | elapsed: 13.9min\n",
      "[Parallel(n_jobs=-1)]: Done  64 tasks      | elapsed: 17.3min\n",
      "[Parallel(n_jobs=-1)]: Done  77 tasks      | elapsed: 21.2min\n",
      "[Parallel(n_jobs=-1)]: Done  90 tasks      | elapsed: 25.2min\n",
      "[Parallel(n_jobs=-1)]: Done 105 tasks      | elapsed: 29.8min\n",
      "[Parallel(n_jobs=-1)]: Done 120 out of 120 | elapsed: 35.2min finished\n"
     ]
    },
    {
     "name": "stdout",
     "output_type": "stream",
     "text": [
      "Pipeline(steps=[('standardize', StandardScaler()),\n",
      "                ('model',\n",
      "                 GradientBoostingRegressor(alpha=0.5, learning_rate=0.0085,\n",
      "                                           max_depth=7, n_estimators=500))])\n"
     ]
    }
   ],
   "source": [
    "from sklearn.ensemble import GradientBoostingRegressor\n",
    "gb = GradientBoostingRegressor()\n",
    "# set up 5-fold cross-validation\n",
    "from sklearn import model_selection\n",
    "cv = model_selection.KFold(5)\n",
    "# pipeline standardization and model\n",
    "from sklearn.pipeline import Pipeline\n",
    "pipeline = Pipeline(steps=[('standardize', preprocessing.StandardScaler())\n",
    "                           , ('model', gb) ])\n",
    "# tune the model\n",
    "\n",
    "my_learning_rate = [0.05, 0.005, 0.5, 0.0085]\n",
    "my_n_estimators= [100, 200, 500]\n",
    "my_max_depth = [7]\n",
    "my_alpha = [0.5, 0.9]\n",
    "\n",
    "# run the model using gridsearch, select the model with best search\n",
    "from sklearn.model_selection import GridSearchCV\n",
    "\n",
    "\n",
    "optimized_gb = GridSearchCV(estimator=pipeline\n",
    "                            , cv=cv\n",
    "                            , param_grid =dict(model__max_depth = my_max_depth, model__n_estimators = my_n_estimators,\n",
    "                                              model__learning_rate = my_learning_rate, model__alpha = my_alpha, )\n",
    "                            , scoring = 'neg_mean_squared_error'\n",
    "                            , verbose = 10\n",
    "                            , n_jobs = -1\n",
    "                           )\n",
    "optimized_gb.fit(train_X, train_Y)\n",
    "# show the best model estimators\n",
    "print(optimized_gb.best_estimator_)\n",
    "# evaluate metrics on holdout"
   ]
  },
  {
   "cell_type": "code",
   "execution_count": 21,
   "metadata": {},
   "outputs": [
    {
     "data": {
      "text/plain": [
       "{'ModelName': 'GradientBoostingRegressor',\n",
       " 'explained_variance': 0.7201368696726207,\n",
       " 'mean_absolute_error': 25.611803551210578,\n",
       " 'median_absolute_error': 17.357777577332314,\n",
       " 'max_error': 161.784601286633,\n",
       " 'R_squared': 0.7201205705296294,\n",
       " 'mean_squared_error': 1311.0631235076198,\n",
       " 'root_mean_squared_error': 36.20860565539109}"
      ]
     },
     "execution_count": 21,
     "metadata": {},
     "output_type": "execute_result"
    }
   ],
   "source": [
    "y_pred_gb = optimized_gb.predict(test_X)\n",
    "model_perf_gb = createOutParam('GradientBoostingRegressor', test_X, test_Y, y_pred_gb)\n",
    "model_perf_gb"
   ]
  },
  {
   "cell_type": "code",
   "execution_count": 22,
   "metadata": {},
   "outputs": [
    {
     "data": {
      "text/plain": [
       "[{'ModelName': 'RandomForestRegressor',\n",
       "  'explained_variance': 0.7253156492712516,\n",
       "  'mean_absolute_error': 25.285723228010845,\n",
       "  'median_absolute_error': 17.499859903110888,\n",
       "  'max_error': 156.99759740052946,\n",
       "  'R_squared': 0.7252980965958917,\n",
       "  'mean_squared_error': 1286.8095958034892,\n",
       "  'root_mean_squared_error': 35.87212839801242},\n",
       " {'ModelName': 'ElasticNet',\n",
       "  'explained_variance': 0.6484865452146342,\n",
       "  'mean_absolute_error': 31.158948268857973,\n",
       "  'median_absolute_error': 25.982292588273367,\n",
       "  'max_error': 175.4652973870921,\n",
       "  'R_squared': 0.6484864344961769,\n",
       "  'mean_squared_error': 1646.6250271298743,\n",
       "  'root_mean_squared_error': 40.578627713734654},\n",
       " {'ModelName': 'SVM_Regressor',\n",
       "  'explained_variance': 0.6887975104851101,\n",
       "  'mean_absolute_error': 26.834332579995383,\n",
       "  'median_absolute_error': 17.682102178812983,\n",
       "  'max_error': 182.32421107266794,\n",
       "  'R_squared': 0.6791436811906638,\n",
       "  'mean_squared_error': 1503.0146671778123,\n",
       "  'root_mean_squared_error': 38.768733112881215},\n",
       " {'ModelName': 'GradientBoostingRegressor',\n",
       "  'explained_variance': 0.7201368696726207,\n",
       "  'mean_absolute_error': 25.611803551210578,\n",
       "  'median_absolute_error': 17.357777577332314,\n",
       "  'max_error': 161.784601286633,\n",
       "  'R_squared': 0.7201205705296294,\n",
       "  'mean_squared_error': 1311.0631235076198,\n",
       "  'root_mean_squared_error': 36.20860565539109}]"
      ]
     },
     "execution_count": 22,
     "metadata": {},
     "output_type": "execute_result"
    }
   ],
   "source": [
    "model_perf.append(model_perf_gb)\n",
    "model_perf"
   ]
  },
  {
   "cell_type": "markdown",
   "metadata": {},
   "source": [
    "## Model 5 - Voting Regressor"
   ]
  },
  {
   "cell_type": "code",
   "execution_count": 23,
   "metadata": {},
   "outputs": [
    {
     "name": "stdout",
     "output_type": "stream",
     "text": [
      "Fitting 10 folds for each of 3 candidates, totalling 30 fits\n"
     ]
    },
    {
     "name": "stderr",
     "output_type": "stream",
     "text": [
      "[Parallel(n_jobs=-1)]: Using backend LokyBackend with 4 concurrent workers.\n",
      "[Parallel(n_jobs=-1)]: Done  30 out of  30 | elapsed:  5.1min finished\n"
     ]
    },
    {
     "name": "stdout",
     "output_type": "stream",
     "text": [
      "Fitting 10 folds for each of 15 candidates, totalling 150 fits\n"
     ]
    },
    {
     "name": "stderr",
     "output_type": "stream",
     "text": [
      "[Parallel(n_jobs=-1)]: Using backend LokyBackend with 4 concurrent workers.\n",
      "[Parallel(n_jobs=-1)]: Done  42 tasks      | elapsed:    3.5s\n",
      "[Parallel(n_jobs=-1)]: Done 150 out of 150 | elapsed:    9.5s finished\n"
     ]
    },
    {
     "name": "stdout",
     "output_type": "stream",
     "text": [
      "Fitting 10 folds for each of 30 candidates, totalling 300 fits\n"
     ]
    },
    {
     "name": "stderr",
     "output_type": "stream",
     "text": [
      "[Parallel(n_jobs=-1)]: Using backend LokyBackend with 4 concurrent workers.\n",
      "[Parallel(n_jobs=-1)]: Done  42 tasks      | elapsed:  3.6min\n",
      "[Parallel(n_jobs=-1)]: Done 192 tasks      | elapsed: 16.7min\n",
      "[Parallel(n_jobs=-1)]: Done 300 out of 300 | elapsed: 26.1min finished\n"
     ]
    },
    {
     "name": "stdout",
     "output_type": "stream",
     "text": [
      "Fitting 5 folds for each of 24 candidates, totalling 120 fits\n"
     ]
    },
    {
     "name": "stderr",
     "output_type": "stream",
     "text": [
      "[Parallel(n_jobs=-1)]: Using backend LokyBackend with 4 concurrent workers.\n",
      "[Parallel(n_jobs=-1)]: Done   5 tasks      | elapsed:   43.3s\n",
      "[Parallel(n_jobs=-1)]: Done  10 tasks      | elapsed:  1.9min\n",
      "[Parallel(n_jobs=-1)]: Done  17 tasks      | elapsed:  3.8min\n",
      "[Parallel(n_jobs=-1)]: Done  24 tasks      | elapsed:  5.7min\n",
      "[Parallel(n_jobs=-1)]: Done  33 tasks      | elapsed:  8.7min\n",
      "[Parallel(n_jobs=-1)]: Done  42 tasks      | elapsed: 12.3min\n",
      "[Parallel(n_jobs=-1)]: Done  53 tasks      | elapsed: 14.4min\n",
      "[Parallel(n_jobs=-1)]: Done  64 tasks      | elapsed: 17.2min\n",
      "[Parallel(n_jobs=-1)]: Done  77 tasks      | elapsed: 20.5min\n",
      "[Parallel(n_jobs=-1)]: Done  90 tasks      | elapsed: 23.8min\n",
      "[Parallel(n_jobs=-1)]: Done 105 tasks      | elapsed: 27.4min\n",
      "[Parallel(n_jobs=-1)]: Done 120 out of 120 | elapsed: 32.6min finished\n"
     ]
    },
    {
     "data": {
      "text/plain": [
       "VotingRegressor(estimators=[('svm',\n",
       "                             GridSearchCV(cv=KFold(n_splits=10, random_state=None, shuffle=False),\n",
       "                                          estimator=Pipeline(steps=[('standardize',\n",
       "                                                                     StandardScaler()),\n",
       "                                                                    ('model',\n",
       "                                                                     SVR())]),\n",
       "                                          n_jobs=-1,\n",
       "                                          param_grid={'model__C': [1],\n",
       "                                                      'model__epsilon': [0.05,\n",
       "                                                                         0.1,\n",
       "                                                                         0.15]},\n",
       "                                          scoring='neg_mean_squared_error',\n",
       "                                          verbose=1)),\n",
       "                            ('glm',\n",
       "                             GridSearchCV(cv=KFold(n_splits=10, random_state=N...\n",
       "                             GridSearchCV(cv=KFold(n_splits=5, random_state=None, shuffle=False),\n",
       "                                          estimator=Pipeline(steps=[('standardize',\n",
       "                                                                     StandardScaler()),\n",
       "                                                                    ('model',\n",
       "                                                                     GradientBoostingRegressor())]),\n",
       "                                          n_jobs=-1,\n",
       "                                          param_grid={'model__alpha': [0.5,\n",
       "                                                                       0.9],\n",
       "                                                      'model__learning_rate': [0.05,\n",
       "                                                                               0.005,\n",
       "                                                                               0.5,\n",
       "                                                                               0.0085],\n",
       "                                                      'model__max_depth': [7],\n",
       "                                                      'model__n_estimators': [100,\n",
       "                                                                              200,\n",
       "                                                                              500]},\n",
       "                                          scoring='neg_mean_squared_error',\n",
       "                                          verbose=10))])"
      ]
     },
     "execution_count": 23,
     "metadata": {},
     "output_type": "execute_result"
    }
   ],
   "source": [
    "from sklearn.ensemble import VotingRegressor\n",
    "vr = VotingRegressor([('svm', optimized_svm), ('glm', optimized_glm_net),\n",
    "                      ('rf', optimized_rf), ('gb', optimized_gb)])\n",
    "vr.fit(train_X, train_Y)"
   ]
  },
  {
   "cell_type": "code",
   "execution_count": 24,
   "metadata": {},
   "outputs": [
    {
     "data": {
      "text/plain": [
       "[{'ModelName': 'RandomForestRegressor',\n",
       "  'explained_variance': 0.7253156492712516,\n",
       "  'mean_absolute_error': 25.285723228010845,\n",
       "  'median_absolute_error': 17.499859903110888,\n",
       "  'max_error': 156.99759740052946,\n",
       "  'R_squared': 0.7252980965958917,\n",
       "  'mean_squared_error': 1286.8095958034892,\n",
       "  'root_mean_squared_error': 35.87212839801242},\n",
       " {'ModelName': 'ElasticNet',\n",
       "  'explained_variance': 0.6484865452146342,\n",
       "  'mean_absolute_error': 31.158948268857973,\n",
       "  'median_absolute_error': 25.982292588273367,\n",
       "  'max_error': 175.4652973870921,\n",
       "  'R_squared': 0.6484864344961769,\n",
       "  'mean_squared_error': 1646.6250271298743,\n",
       "  'root_mean_squared_error': 40.578627713734654},\n",
       " {'ModelName': 'SVM_Regressor',\n",
       "  'explained_variance': 0.6887975104851101,\n",
       "  'mean_absolute_error': 26.834332579995383,\n",
       "  'median_absolute_error': 17.682102178812983,\n",
       "  'max_error': 182.32421107266794,\n",
       "  'R_squared': 0.6791436811906638,\n",
       "  'mean_squared_error': 1503.0146671778123,\n",
       "  'root_mean_squared_error': 38.768733112881215},\n",
       " {'ModelName': 'GradientBoostingRegressor',\n",
       "  'explained_variance': 0.7201368696726207,\n",
       "  'mean_absolute_error': 25.611803551210578,\n",
       "  'median_absolute_error': 17.357777577332314,\n",
       "  'max_error': 161.784601286633,\n",
       "  'R_squared': 0.7201205705296294,\n",
       "  'mean_squared_error': 1311.0631235076198,\n",
       "  'root_mean_squared_error': 36.20860565539109},\n",
       " {'ModelName': 'VotingRegressor',\n",
       "  'explained_variance': 0.7143421738232816,\n",
       "  'mean_absolute_error': 26.070902219929383,\n",
       "  'median_absolute_error': 18.52104181865164,\n",
       "  'max_error': 168.44233400424218,\n",
       "  'R_squared': 0.7138343514968186,\n",
       "  'mean_squared_error': 1340.5101963982786,\n",
       "  'root_mean_squared_error': 36.612978523991714}]"
      ]
     },
     "execution_count": 24,
     "metadata": {},
     "output_type": "execute_result"
    }
   ],
   "source": [
    "y_pred_vr = vr.predict(test_X)\n",
    "model_perf_vr = createOutParam('VotingRegressor', test_X, test_Y, y_pred_vr)\n",
    "model_perf.append(model_perf_vr)\n",
    "model_perf"
   ]
  },
  {
   "cell_type": "markdown",
   "metadata": {},
   "source": [
    "## Model 6 - AdaBoost Regressor"
   ]
  },
  {
   "cell_type": "code",
   "execution_count": 25,
   "metadata": {},
   "outputs": [
    {
     "name": "stdout",
     "output_type": "stream",
     "text": [
      "Fitting 5 folds for each of 6 candidates, totalling 30 fits\n"
     ]
    },
    {
     "name": "stderr",
     "output_type": "stream",
     "text": [
      "[Parallel(n_jobs=-1)]: Using backend LokyBackend with 4 concurrent workers.\n",
      "[Parallel(n_jobs=-1)]: Done   5 tasks      | elapsed:   15.0s\n",
      "[Parallel(n_jobs=-1)]: Done  10 tasks      | elapsed:   35.7s\n",
      "[Parallel(n_jobs=-1)]: Done  17 tasks      | elapsed:   56.9s\n",
      "[Parallel(n_jobs=-1)]: Done  27 out of  30 | elapsed:  1.2min remaining:    7.7s\n",
      "[Parallel(n_jobs=-1)]: Done  30 out of  30 | elapsed:  1.3min finished\n"
     ]
    },
    {
     "name": "stdout",
     "output_type": "stream",
     "text": [
      "Pipeline(steps=[('standardize', StandardScaler()),\n",
      "                ('model', AdaBoostRegressor(learning_rate=0.05))])\n"
     ]
    }
   ],
   "source": [
    "from sklearn.ensemble import AdaBoostRegressor\n",
    "ad = ensemble.AdaBoostRegressor()\n",
    "# set up 5-fold cross-validation\n",
    "from sklearn import model_selection\n",
    "cv = model_selection.KFold(5)\n",
    "# pipeline standardization and model\n",
    "from sklearn.pipeline import Pipeline\n",
    "pipeline = Pipeline(steps=[('standardize', preprocessing.StandardScaler())\n",
    "                           , ('model', ad) ])\n",
    "# tune the model\n",
    "\n",
    "my_learning_rate = [0.05, 0.005, 0.5]\n",
    "my_n_estimators= [50, 100]\n",
    "\n",
    "\n",
    "# run the model using gridsearch, select the model with best search\n",
    "from sklearn.model_selection import GridSearchCV\n",
    "\n",
    "\n",
    "optimized_ad = GridSearchCV(estimator=pipeline\n",
    "                            , cv=cv\n",
    "                            , param_grid =dict(model__n_estimators = my_n_estimators,\n",
    "                                              model__learning_rate = my_learning_rate)\n",
    "                            , scoring = 'neg_mean_squared_error'\n",
    "                            , verbose = 10\n",
    "                            , n_jobs = -1\n",
    "                           )\n",
    "optimized_ad.fit(train_X, train_Y)\n",
    "# show the best model estimators\n",
    "print(optimized_ad.best_estimator_)\n",
    "# evaluate metrics on holdout"
   ]
  },
  {
   "cell_type": "code",
   "execution_count": 26,
   "metadata": {},
   "outputs": [
    {
     "data": {
      "text/plain": [
       "[{'ModelName': 'RandomForestRegressor',\n",
       "  'explained_variance': 0.7253156492712516,\n",
       "  'mean_absolute_error': 25.285723228010845,\n",
       "  'median_absolute_error': 17.499859903110888,\n",
       "  'max_error': 156.99759740052946,\n",
       "  'R_squared': 0.7252980965958917,\n",
       "  'mean_squared_error': 1286.8095958034892,\n",
       "  'root_mean_squared_error': 35.87212839801242},\n",
       " {'ModelName': 'ElasticNet',\n",
       "  'explained_variance': 0.6484865452146342,\n",
       "  'mean_absolute_error': 31.158948268857973,\n",
       "  'median_absolute_error': 25.982292588273367,\n",
       "  'max_error': 175.4652973870921,\n",
       "  'R_squared': 0.6484864344961769,\n",
       "  'mean_squared_error': 1646.6250271298743,\n",
       "  'root_mean_squared_error': 40.578627713734654},\n",
       " {'ModelName': 'SVM_Regressor',\n",
       "  'explained_variance': 0.6887975104851101,\n",
       "  'mean_absolute_error': 26.834332579995383,\n",
       "  'median_absolute_error': 17.682102178812983,\n",
       "  'max_error': 182.32421107266794,\n",
       "  'R_squared': 0.6791436811906638,\n",
       "  'mean_squared_error': 1503.0146671778123,\n",
       "  'root_mean_squared_error': 38.768733112881215},\n",
       " {'ModelName': 'GradientBoostingRegressor',\n",
       "  'explained_variance': 0.7201368696726207,\n",
       "  'mean_absolute_error': 25.611803551210578,\n",
       "  'median_absolute_error': 17.357777577332314,\n",
       "  'max_error': 161.784601286633,\n",
       "  'R_squared': 0.7201205705296294,\n",
       "  'mean_squared_error': 1311.0631235076198,\n",
       "  'root_mean_squared_error': 36.20860565539109},\n",
       " {'ModelName': 'VotingRegressor',\n",
       "  'explained_variance': 0.7143421738232816,\n",
       "  'mean_absolute_error': 26.070902219929383,\n",
       "  'median_absolute_error': 18.52104181865164,\n",
       "  'max_error': 168.44233400424218,\n",
       "  'R_squared': 0.7138343514968186,\n",
       "  'mean_squared_error': 1340.5101963982786,\n",
       "  'root_mean_squared_error': 36.612978523991714},\n",
       " {'ModelName': 'AdaBoostRegressor',\n",
       "  'explained_variance': 0.6822314461211438,\n",
       "  'mean_absolute_error': 29.260810633667614,\n",
       "  'median_absolute_error': 21.943429581614623,\n",
       "  'max_error': 153.7908245107475,\n",
       "  'R_squared': 0.6785622351753449,\n",
       "  'mean_squared_error': 1505.7383844243345,\n",
       "  'root_mean_squared_error': 38.80384496959463}]"
      ]
     },
     "execution_count": 26,
     "metadata": {},
     "output_type": "execute_result"
    }
   ],
   "source": [
    "y_pred_ad = optimized_ad.predict(test_X)\n",
    "model_perf_ad = createOutParam('AdaBoostRegressor', test_X, test_Y, y_pred_ad)\n",
    "model_perf.append(model_perf_ad)\n",
    "model_perf"
   ]
  },
  {
   "cell_type": "markdown",
   "metadata": {},
   "source": [
    "## Model 7 - HistGradientBoostingRegressor"
   ]
  },
  {
   "cell_type": "code",
   "execution_count": 27,
   "metadata": {},
   "outputs": [
    {
     "data": {
      "text/plain": [
       "HistGradientBoostingRegressor(learning_rate=0.05)"
      ]
     },
     "execution_count": 27,
     "metadata": {},
     "output_type": "execute_result"
    }
   ],
   "source": [
    "from sklearn.experimental import enable_hist_gradient_boosting\n",
    "from sklearn.ensemble import HistGradientBoostingRegressor\n",
    "hgb = HistGradientBoostingRegressor(learning_rate=0.05)\n",
    "\n",
    "hgb.fit(train_X, train_Y)\n"
   ]
  },
  {
   "cell_type": "code",
   "execution_count": 28,
   "metadata": {},
   "outputs": [
    {
     "data": {
      "text/plain": [
       "[{'ModelName': 'RandomForestRegressor',\n",
       "  'explained_variance': 0.7253156492712516,\n",
       "  'mean_absolute_error': 25.285723228010845,\n",
       "  'median_absolute_error': 17.499859903110888,\n",
       "  'max_error': 156.99759740052946,\n",
       "  'R_squared': 0.7252980965958917,\n",
       "  'mean_squared_error': 1286.8095958034892,\n",
       "  'root_mean_squared_error': 35.87212839801242},\n",
       " {'ModelName': 'ElasticNet',\n",
       "  'explained_variance': 0.6484865452146342,\n",
       "  'mean_absolute_error': 31.158948268857973,\n",
       "  'median_absolute_error': 25.982292588273367,\n",
       "  'max_error': 175.4652973870921,\n",
       "  'R_squared': 0.6484864344961769,\n",
       "  'mean_squared_error': 1646.6250271298743,\n",
       "  'root_mean_squared_error': 40.578627713734654},\n",
       " {'ModelName': 'SVM_Regressor',\n",
       "  'explained_variance': 0.6887975104851101,\n",
       "  'mean_absolute_error': 26.834332579995383,\n",
       "  'median_absolute_error': 17.682102178812983,\n",
       "  'max_error': 182.32421107266794,\n",
       "  'R_squared': 0.6791436811906638,\n",
       "  'mean_squared_error': 1503.0146671778123,\n",
       "  'root_mean_squared_error': 38.768733112881215},\n",
       " {'ModelName': 'GradientBoostingRegressor',\n",
       "  'explained_variance': 0.7201368696726207,\n",
       "  'mean_absolute_error': 25.611803551210578,\n",
       "  'median_absolute_error': 17.357777577332314,\n",
       "  'max_error': 161.784601286633,\n",
       "  'R_squared': 0.7201205705296294,\n",
       "  'mean_squared_error': 1311.0631235076198,\n",
       "  'root_mean_squared_error': 36.20860565539109},\n",
       " {'ModelName': 'VotingRegressor',\n",
       "  'explained_variance': 0.7143421738232816,\n",
       "  'mean_absolute_error': 26.070902219929383,\n",
       "  'median_absolute_error': 18.52104181865164,\n",
       "  'max_error': 168.44233400424218,\n",
       "  'R_squared': 0.7138343514968186,\n",
       "  'mean_squared_error': 1340.5101963982786,\n",
       "  'root_mean_squared_error': 36.612978523991714},\n",
       " {'ModelName': 'AdaBoostRegressor',\n",
       "  'explained_variance': 0.6822314461211438,\n",
       "  'mean_absolute_error': 29.260810633667614,\n",
       "  'median_absolute_error': 21.943429581614623,\n",
       "  'max_error': 153.7908245107475,\n",
       "  'R_squared': 0.6785622351753449,\n",
       "  'mean_squared_error': 1505.7383844243345,\n",
       "  'root_mean_squared_error': 38.80384496959463},\n",
       " {'ModelName': 'HistGradientBoostingRegressor',\n",
       "  'explained_variance': 0.7198447633546678,\n",
       "  'mean_absolute_error': 25.64768769043643,\n",
       "  'median_absolute_error': 17.64529697888578,\n",
       "  'max_error': 160.9979278258142,\n",
       "  'R_squared': 0.7198438574198635,\n",
       "  'mean_squared_error': 1312.3593543692157,\n",
       "  'root_mean_squared_error': 36.22650071935207}]"
      ]
     },
     "execution_count": 28,
     "metadata": {},
     "output_type": "execute_result"
    }
   ],
   "source": [
    "y_pred_hgb = hgb.predict(test_X)\n",
    "model_perf_hgb = createOutParam('HistGradientBoostingRegressor', test_X, test_Y, y_pred_hgb)\n",
    "model_perf.append(model_perf_hgb)\n",
    "model_perf"
   ]
  },
  {
   "cell_type": "code",
   "execution_count": 29,
   "metadata": {},
   "outputs": [
    {
     "name": "stderr",
     "output_type": "stream",
     "text": [
      "c:\\programdata\\miniconda3\\lib\\site-packages\\xgboost\\core.py:587: FutureWarning: Series.base is deprecated and will be removed in a future version\n",
      "  if getattr(data, 'base', None) is not None and \\\n"
     ]
    },
    {
     "data": {
      "text/plain": [
       "XGBRegressor(n_estimators=300)"
      ]
     },
     "execution_count": 29,
     "metadata": {},
     "output_type": "execute_result"
    }
   ],
   "source": [
    "## Model - XGBoost\n",
    "import xgboost as xgb\n",
    "#data_dmatrix = xgb.DMatrix(data=X,label=Y)\n",
    "#xg_reg = xgb.XGBRegressor(objective ='reg:linear', colsample_bytree = 0.3, learning_rate = 0.1,\n",
    "#                max_depth = 5, alpha = 10, n_estimators = 500)\n",
    "xg_reg = xgb.XGBRegressor(learning_rate = 0.1,  n_estimators = 300)\n",
    "\n",
    "xg_reg.fit(train_X,train_Y)"
   ]
  },
  {
   "cell_type": "code",
   "execution_count": 30,
   "metadata": {},
   "outputs": [
    {
     "data": {
      "text/plain": [
       "{'ModelName': 'XGBoost',\n",
       " 'explained_variance': 0.7213124170589515,\n",
       " 'mean_absolute_error': 25.61287148726776,\n",
       " 'median_absolute_error': 17.725902557373047,\n",
       " 'max_error': 163.44125366210938,\n",
       " 'R_squared': 0.7213108167624116,\n",
       " 'mean_squared_error': 1305.4875513884128,\n",
       " 'root_mean_squared_error': 36.13153126271308}"
      ]
     },
     "execution_count": 30,
     "metadata": {},
     "output_type": "execute_result"
    }
   ],
   "source": [
    "y_pred_xgb = xg_reg.predict(test_X)\n",
    "model_perf_xgb = createOutParam('XGBoost', test_X, test_Y, y_pred_xgb)\n",
    "model_perf_xgb"
   ]
  },
  {
   "cell_type": "code",
   "execution_count": 31,
   "metadata": {},
   "outputs": [],
   "source": [
    "model_perf.append(model_perf_xgb)"
   ]
  },
  {
   "cell_type": "markdown",
   "metadata": {},
   "source": [
    "## Model 8 - StackingRegressor"
   ]
  },
  {
   "cell_type": "code",
   "execution_count": 40,
   "metadata": {},
   "outputs": [
    {
     "name": "stdout",
     "output_type": "stream",
     "text": [
      "Fitting 5 folds for each of 24 candidates, totalling 120 fits\n"
     ]
    },
    {
     "name": "stderr",
     "output_type": "stream",
     "text": [
      "[Parallel(n_jobs=-1)]: Using backend LokyBackend with 4 concurrent workers.\n",
      "[Parallel(n_jobs=-1)]: Done   5 tasks      | elapsed:  1.2min\n",
      "[Parallel(n_jobs=-1)]: Done  10 tasks      | elapsed:  2.2min\n",
      "[Parallel(n_jobs=-1)]: Done  17 tasks      | elapsed:  3.9min\n",
      "[Parallel(n_jobs=-1)]: Done  24 tasks      | elapsed:  5.3min\n",
      "[Parallel(n_jobs=-1)]: Done  33 tasks      | elapsed:  7.7min\n",
      "[Parallel(n_jobs=-1)]: Done  42 tasks      | elapsed: 10.0min\n",
      "[Parallel(n_jobs=-1)]: Done  53 tasks      | elapsed: 11.7min\n",
      "[Parallel(n_jobs=-1)]: Done  64 tasks      | elapsed: 14.4min\n",
      "[Parallel(n_jobs=-1)]: Done  77 tasks      | elapsed: 17.4min\n",
      "[Parallel(n_jobs=-1)]: Done  90 tasks      | elapsed: 20.6min\n",
      "[Parallel(n_jobs=-1)]: Done 105 tasks      | elapsed: 23.9min\n",
      "[Parallel(n_jobs=-1)]: Done 120 out of 120 | elapsed: 27.8min finished\n",
      "[Parallel(n_jobs=-1)]: Done  42 tasks      | elapsed:  2.6min\n",
      "[Parallel(n_jobs=-1)]: Done 192 tasks      | elapsed: 13.0min\n",
      "[Parallel(n_jobs=-1)]: Done 300 out of 300 | elapsed: 21.5min finished\n",
      "[Parallel(n_jobs=-1)]: Done  10 tasks      | elapsed:  1.3min\n",
      "[Parallel(n_jobs=-1)]: Done  17 tasks      | elapsed:  2.6min\n",
      "[Parallel(n_jobs=-1)]: Done  24 tasks      | elapsed:  3.7min\n",
      "[Parallel(n_jobs=-1)]: Done  33 tasks      | elapsed:  5.5min\n",
      "[Parallel(n_jobs=-1)]: Done  42 tasks      | elapsed:  7.4min\n",
      "[Parallel(n_jobs=-1)]: Done  53 tasks      | elapsed:  8.8min\n",
      "[Parallel(n_jobs=-1)]: Done  64 tasks      | elapsed: 10.9min\n",
      "[Parallel(n_jobs=-1)]: Done  77 tasks      | elapsed: 13.3min\n",
      "[Parallel(n_jobs=-1)]: Done  90 tasks      | elapsed: 16.0min\n",
      "[Parallel(n_jobs=-1)]: Done 105 tasks      | elapsed: 18.7min\n",
      "[Parallel(n_jobs=-1)]: Done 120 out of 120 | elapsed: 21.9min finished\n",
      "[Parallel(n_jobs=-1)]: Done  17 tasks      | elapsed:  2.6min\n",
      "[Parallel(n_jobs=-1)]: Done  24 tasks      | elapsed:  3.7min\n",
      "[Parallel(n_jobs=-1)]: Done  33 tasks      | elapsed:  5.5min\n",
      "[Parallel(n_jobs=-1)]: Done  42 tasks      | elapsed:  7.3min\n",
      "[Parallel(n_jobs=-1)]: Done  53 tasks      | elapsed:  8.7min\n",
      "[Parallel(n_jobs=-1)]: Done  64 tasks      | elapsed: 10.8min\n",
      "[Parallel(n_jobs=-1)]: Done  77 tasks      | elapsed: 13.1min\n",
      "[Parallel(n_jobs=-1)]: Done  90 tasks      | elapsed: 15.6min\n",
      "[Parallel(n_jobs=-1)]: Done 105 tasks      | elapsed: 18.2min\n",
      "[Parallel(n_jobs=-1)]: Done 120 out of 120 | elapsed: 21.3min finished\n"
     ]
    },
    {
     "name": "stdout",
     "output_type": "stream",
     "text": [
      "Fitting 5 folds for each of 24 candidates, totalling 120 fits\n"
     ]
    },
    {
     "name": "stderr",
     "output_type": "stream",
     "text": [
      "[Parallel(n_jobs=-1)]: Done  17 tasks      | elapsed:  2.6min\n",
      "[Parallel(n_jobs=-1)]: Done  24 tasks      | elapsed:  3.7min\n",
      "[Parallel(n_jobs=-1)]: Done  33 tasks      | elapsed:  5.5min\n",
      "[Parallel(n_jobs=-1)]: Done  42 tasks      | elapsed:  7.4min\n",
      "[Parallel(n_jobs=-1)]: Done  53 tasks      | elapsed: 12.0min\n",
      "[Parallel(n_jobs=-1)]: Done  64 tasks      | elapsed: 14.4min\n",
      "[Parallel(n_jobs=-1)]: Done  77 tasks      | elapsed: 16.9min\n",
      "[Parallel(n_jobs=-1)]: Done  90 tasks      | elapsed: 19.6min\n",
      "[Parallel(n_jobs=-1)]: Done 105 tasks      | elapsed: 22.3min\n",
      "[Parallel(n_jobs=-1)]: Done 120 out of 120 | elapsed: 25.5min finished\n",
      "[Parallel(n_jobs=-1)]: Done  17 tasks      | elapsed:  2.7min\n",
      "[Parallel(n_jobs=-1)]: Done  24 tasks      | elapsed:  3.8min\n",
      "[Parallel(n_jobs=-1)]: Done  33 tasks      | elapsed:  5.7min\n",
      "[Parallel(n_jobs=-1)]: Done  42 tasks      | elapsed:  7.6min\n",
      "[Parallel(n_jobs=-1)]: Done  53 tasks      | elapsed:  8.9min\n",
      "[Parallel(n_jobs=-1)]: Done  64 tasks      | elapsed: 11.1min\n",
      "[Parallel(n_jobs=-1)]: Done  77 tasks      | elapsed: 13.4min\n",
      "[Parallel(n_jobs=-1)]: Done  90 tasks      | elapsed: 16.1min\n",
      "[Parallel(n_jobs=-1)]: Done 105 tasks      | elapsed: 18.7min\n",
      "[Parallel(n_jobs=-1)]: Done 120 out of 120 | elapsed: 22.0min finished\n"
     ]
    },
    {
     "name": "stdout",
     "output_type": "stream",
     "text": [
      "Fitting 5 folds for each of 24 candidates, totalling 120 fits\n"
     ]
    },
    {
     "name": "stderr",
     "output_type": "stream",
     "text": [
      "[Parallel(n_jobs=-1)]: Using backend LokyBackend with 4 concurrent workers.\n",
      "[Parallel(n_jobs=-1)]: Done   5 tasks      | elapsed:   32.1s\n",
      "[Parallel(n_jobs=-1)]: Done  10 tasks      | elapsed:  1.3min\n",
      "[Parallel(n_jobs=-1)]: Done  17 tasks      | elapsed:  2.7min\n",
      "[Parallel(n_jobs=-1)]: Done  24 tasks      | elapsed:  3.8min\n",
      "[Parallel(n_jobs=-1)]: Done  33 tasks      | elapsed:  5.6min\n",
      "[Parallel(n_jobs=-1)]: Done  42 tasks      | elapsed:  7.5min\n",
      "[Parallel(n_jobs=-1)]: Done  53 tasks      | elapsed:  8.8min\n",
      "[Parallel(n_jobs=-1)]: Done  64 tasks      | elapsed: 11.0min\n",
      "[Parallel(n_jobs=-1)]: Done  77 tasks      | elapsed: 13.4min\n",
      "[Parallel(n_jobs=-1)]: Done  90 tasks      | elapsed: 16.0min\n",
      "[Parallel(n_jobs=-1)]: Done 105 tasks      | elapsed: 18.6min\n",
      "[Parallel(n_jobs=-1)]: Done 120 out of 120 | elapsed: 21.8min finished\n"
     ]
    },
    {
     "name": "stdout",
     "output_type": "stream",
     "text": [
      "Fitting 10 folds for each of 30 candidates, totalling 300 fits\n"
     ]
    },
    {
     "name": "stderr",
     "output_type": "stream",
     "text": [
      "[Parallel(n_jobs=-1)]: Using backend LokyBackend with 4 concurrent workers.\n",
      "[Parallel(n_jobs=-1)]: Done  42 tasks      | elapsed:  2.1min\n",
      "[Parallel(n_jobs=-1)]: Done 192 tasks      | elapsed: 10.5min\n",
      "[Parallel(n_jobs=-1)]: Done 300 out of 300 | elapsed: 16.9min finished\n",
      "[Parallel(n_jobs=-1)]: Done  42 tasks      | elapsed:  2.2min\n",
      "[Parallel(n_jobs=-1)]: Done 192 tasks      | elapsed: 10.5min\n",
      "[Parallel(n_jobs=-1)]: Done 300 out of 300 | elapsed: 16.9min finished\n",
      "[Parallel(n_jobs=-1)]: Done  42 tasks      | elapsed:  2.1min\n",
      "[Parallel(n_jobs=-1)]: Done 192 tasks      | elapsed: 10.4min\n",
      "[Parallel(n_jobs=-1)]: Done 300 out of 300 | elapsed: 16.9min finished\n"
     ]
    },
    {
     "name": "stdout",
     "output_type": "stream",
     "text": [
      "Fitting 10 folds for each of 30 candidates, totalling 300 fits\n"
     ]
    },
    {
     "name": "stderr",
     "output_type": "stream",
     "text": [
      "[Parallel(n_jobs=-1)]: Using backend LokyBackend with 4 concurrent workers.\n",
      "[Parallel(n_jobs=-1)]: Done  42 tasks      | elapsed:  2.2min\n",
      "[Parallel(n_jobs=-1)]: Done 192 tasks      | elapsed: 10.4min\n",
      "[Parallel(n_jobs=-1)]: Done 300 out of 300 | elapsed: 16.8min finished\n"
     ]
    },
    {
     "name": "stdout",
     "output_type": "stream",
     "text": [
      "Fitting 10 folds for each of 30 candidates, totalling 300 fits\n"
     ]
    },
    {
     "name": "stderr",
     "output_type": "stream",
     "text": [
      "[Parallel(n_jobs=-1)]: Done  42 tasks      | elapsed:  2.1min\n",
      "[Parallel(n_jobs=-1)]: Done 192 tasks      | elapsed: 10.4min\n",
      "[Parallel(n_jobs=-1)]: Done 300 out of 300 | elapsed: 16.8min finished\n"
     ]
    },
    {
     "data": {
      "text/plain": [
       "StackingRegressor(estimators=[('gb',\n",
       "                               GridSearchCV(cv=KFold(n_splits=5, random_state=None, shuffle=False),\n",
       "                                            estimator=Pipeline(steps=[('standardize',\n",
       "                                                                       StandardScaler()),\n",
       "                                                                      ('model',\n",
       "                                                                       GradientBoostingRegressor())]),\n",
       "                                            n_jobs=-1,\n",
       "                                            param_grid={'model__alpha': [0.5,\n",
       "                                                                         0.9],\n",
       "                                                        'model__learning_rate': [0.05,\n",
       "                                                                                 0.005,\n",
       "                                                                                 0.5,\n",
       "                                                                                 0.0085],\n",
       "                                                        'model__max_depth': [7],\n",
       "                                                        'model__n_estimators': [100,\n",
       "                                                                                200,\n",
       "                                                                                5...\n",
       "                                                                       StandardScaler()),\n",
       "                                                                      ('model',\n",
       "                                                                       RandomForestRegressor())]),\n",
       "                                            n_jobs=-1,\n",
       "                                            param_grid={'model__max_depth': [7,\n",
       "                                                                             8,\n",
       "                                                                             9,\n",
       "                                                                             10,\n",
       "                                                                             11,\n",
       "                                                                             12],\n",
       "                                                        'model__min_samples_leaf': [2,\n",
       "                                                                                    10,\n",
       "                                                                                    25,\n",
       "                                                                                    50,\n",
       "                                                                                    100]},\n",
       "                                            scoring='neg_mean_squared_error',\n",
       "                                            verbose=1)),\n",
       "                              ('xgb', XGBRegressor(n_estimators=300))],\n",
       "                  final_estimator=Pipeline(steps=[('robustscaler',\n",
       "                                                   RobustScaler()),\n",
       "                                                  ('lasso',\n",
       "                                                   Lasso(alpha=0.0005,\n",
       "                                                         random_state=1))]))"
      ]
     },
     "execution_count": 40,
     "metadata": {},
     "output_type": "execute_result"
    }
   ],
   "source": [
    "from sklearn.ensemble import StackingRegressor\n",
    "from sklearn.pipeline import make_pipeline\n",
    "from sklearn.preprocessing import RobustScaler\n",
    "#estimators = [('hgb', hgb), ('gb',optimized_gb), ('rf',optimized_rf), ('krr',KRR)]\n",
    "from sklearn.linear_model import Lasso\n",
    "#KRR = KernelRidge(alpha=0.6, kernel='polynomial', degree=2, coef0=2.5)\n",
    "lasso = make_pipeline(RobustScaler(), Lasso(alpha =0.0005, random_state=1))\n",
    "\n",
    "estimators = [('gb',optimized_gb), ('rf',optimized_rf), ('xgb', xg_reg)]\n",
    "stacking_regressor = StackingRegressor(\n",
    "    estimators=estimators, \n",
    "    final_estimator=lasso\n",
    ")\n",
    "stacking_regressor.fit(train_X, train_Y)"
   ]
  },
  {
   "cell_type": "code",
   "execution_count": 41,
   "metadata": {},
   "outputs": [
    {
     "data": {
      "text/plain": [
       "{'ModelName': 'Stacking_Regressor',\n",
       " 'explained_variance': 0.7259018811077935,\n",
       " 'mean_absolute_error': 25.259121823504188,\n",
       " 'median_absolute_error': 17.293106523973634,\n",
       " 'max_error': 160.9886546342101,\n",
       " 'R_squared': 0.7258953337758397,\n",
       " 'mean_squared_error': 1284.011906655347,\n",
       " 'root_mean_squared_error': 35.83311187512671}"
      ]
     },
     "execution_count": 41,
     "metadata": {},
     "output_type": "execute_result"
    }
   ],
   "source": [
    "y_pred_str = stacking_regressor.predict(test_X)\n",
    "model_perf_str = createOutParam('Stacking_Regressor', test_X, test_Y, y_pred_str)\n",
    "#model_perf.append(model_perf_str)\n",
    "model_perf_str"
   ]
  },
  {
   "cell_type": "code",
   "execution_count": 42,
   "metadata": {},
   "outputs": [
    {
     "data": {
      "text/plain": [
       "[{'ModelName': 'RandomForestRegressor',\n",
       "  'explained_variance': 0.7253156492712516,\n",
       "  'mean_absolute_error': 25.285723228010845,\n",
       "  'median_absolute_error': 17.499859903110888,\n",
       "  'max_error': 156.99759740052946,\n",
       "  'R_squared': 0.7252980965958917,\n",
       "  'mean_squared_error': 1286.8095958034892,\n",
       "  'root_mean_squared_error': 35.87212839801242},\n",
       " {'ModelName': 'ElasticNet',\n",
       "  'explained_variance': 0.6484865452146342,\n",
       "  'mean_absolute_error': 31.158948268857973,\n",
       "  'median_absolute_error': 25.982292588273367,\n",
       "  'max_error': 175.4652973870921,\n",
       "  'R_squared': 0.6484864344961769,\n",
       "  'mean_squared_error': 1646.6250271298743,\n",
       "  'root_mean_squared_error': 40.578627713734654},\n",
       " {'ModelName': 'SVM_Regressor',\n",
       "  'explained_variance': 0.6887975104851101,\n",
       "  'mean_absolute_error': 26.834332579995383,\n",
       "  'median_absolute_error': 17.682102178812983,\n",
       "  'max_error': 182.32421107266794,\n",
       "  'R_squared': 0.6791436811906638,\n",
       "  'mean_squared_error': 1503.0146671778123,\n",
       "  'root_mean_squared_error': 38.768733112881215},\n",
       " {'ModelName': 'GradientBoostingRegressor',\n",
       "  'explained_variance': 0.7201368696726207,\n",
       "  'mean_absolute_error': 25.611803551210578,\n",
       "  'median_absolute_error': 17.357777577332314,\n",
       "  'max_error': 161.784601286633,\n",
       "  'R_squared': 0.7201205705296294,\n",
       "  'mean_squared_error': 1311.0631235076198,\n",
       "  'root_mean_squared_error': 36.20860565539109},\n",
       " {'ModelName': 'VotingRegressor',\n",
       "  'explained_variance': 0.7143421738232816,\n",
       "  'mean_absolute_error': 26.070902219929383,\n",
       "  'median_absolute_error': 18.52104181865164,\n",
       "  'max_error': 168.44233400424218,\n",
       "  'R_squared': 0.7138343514968186,\n",
       "  'mean_squared_error': 1340.5101963982786,\n",
       "  'root_mean_squared_error': 36.612978523991714},\n",
       " {'ModelName': 'AdaBoostRegressor',\n",
       "  'explained_variance': 0.6822314461211438,\n",
       "  'mean_absolute_error': 29.260810633667614,\n",
       "  'median_absolute_error': 21.943429581614623,\n",
       "  'max_error': 153.7908245107475,\n",
       "  'R_squared': 0.6785622351753449,\n",
       "  'mean_squared_error': 1505.7383844243345,\n",
       "  'root_mean_squared_error': 38.80384496959463},\n",
       " {'ModelName': 'HistGradientBoostingRegressor',\n",
       "  'explained_variance': 0.7198447633546678,\n",
       "  'mean_absolute_error': 25.64768769043643,\n",
       "  'median_absolute_error': 17.64529697888578,\n",
       "  'max_error': 160.9979278258142,\n",
       "  'R_squared': 0.7198438574198635,\n",
       "  'mean_squared_error': 1312.3593543692157,\n",
       "  'root_mean_squared_error': 36.22650071935207},\n",
       " {'ModelName': 'XGBoost',\n",
       "  'explained_variance': 0.7213124170589515,\n",
       "  'mean_absolute_error': 25.61287148726776,\n",
       "  'median_absolute_error': 17.725902557373047,\n",
       "  'max_error': 163.44125366210938,\n",
       "  'R_squared': 0.7213108167624116,\n",
       "  'mean_squared_error': 1305.4875513884128,\n",
       "  'root_mean_squared_error': 36.13153126271308},\n",
       " {'ModelName': 'Stacking_Regressor',\n",
       "  'explained_variance': 0.7259018811077935,\n",
       "  'mean_absolute_error': 25.259121823504188,\n",
       "  'median_absolute_error': 17.293106523973634,\n",
       "  'max_error': 160.9886546342101,\n",
       "  'R_squared': 0.7258953337758397,\n",
       "  'mean_squared_error': 1284.011906655347,\n",
       "  'root_mean_squared_error': 35.83311187512671}]"
      ]
     },
     "execution_count": 42,
     "metadata": {},
     "output_type": "execute_result"
    }
   ],
   "source": [
    "\n",
    "model_perf.append(model_perf_str)\n",
    "model_perf"
   ]
  },
  {
   "cell_type": "code",
   "execution_count": 33,
   "metadata": {},
   "outputs": [],
   "source": [
    "import pickle\n",
    "def save_model(model, filename):\n",
    "    pkl_filename = filename \n",
    "    with open(pkl_filename, 'wb') as file:\n",
    "        pickle.dump(model, file)\n",
    "    \n",
    "    return\n"
   ]
  },
  {
   "cell_type": "code",
   "execution_count": 43,
   "metadata": {},
   "outputs": [],
   "source": [
    "save_model(stacking_regressor, 'Model/StackingRegressor.pkl')"
   ]
  },
  {
   "cell_type": "code",
   "execution_count": 34,
   "metadata": {},
   "outputs": [],
   "source": [
    "save_model(optimized_gb, 'Model/GradientBoost.pkl')"
   ]
  },
  {
   "cell_type": "code",
   "execution_count": 35,
   "metadata": {},
   "outputs": [],
   "source": [
    "save_model(xg_reg, 'Model/XGBoost.pkl')"
   ]
  },
  {
   "cell_type": "code",
   "execution_count": 36,
   "metadata": {},
   "outputs": [],
   "source": [
    "save_model(optimized_rf, 'Model/RandomForest.pkl')\n",
    "\n"
   ]
  },
  {
   "cell_type": "code",
   "execution_count": 37,
   "metadata": {},
   "outputs": [],
   "source": [
    "save_model(optimized_glm_net, 'Model/ElasticNet.pkl')\n",
    "save_model(optimized_svm, 'Model/SVMRegressor.pkl')\n",
    "save_model(vr, 'Model/VotingRegressor.pkl')\n",
    "save_model(optimized_ad, 'Model/AdBoost.pkl')\n",
    "save_model(hgb, 'Model/HistogramGradientBoost.pkl')\n",
    "\n"
   ]
  },
  {
   "cell_type": "code",
   "execution_count": 38,
   "metadata": {},
   "outputs": [],
   "source": [
    "\n",
    "optimized_gb = pickle.load(open('Model/GradientBoost.pkl', 'rb'))"
   ]
  },
  {
   "cell_type": "code",
   "execution_count": 39,
   "metadata": {},
   "outputs": [],
   "source": [
    "optimized_rf = pickle.load(open('Model/RandomForest.pkl', 'rb'))"
   ]
  },
  {
   "cell_type": "code",
   "execution_count": 44,
   "metadata": {},
   "outputs": [],
   "source": [
    "from keras.callbacks import ModelCheckpoint\n",
    "from keras.models import Sequential\n",
    "from keras.layers import Dense, Activation, Flatten"
   ]
  },
  {
   "cell_type": "code",
   "execution_count": 45,
   "metadata": {},
   "outputs": [
    {
     "name": "stdout",
     "output_type": "stream",
     "text": [
      "WARNING:tensorflow:From c:\\programdata\\miniconda3\\lib\\site-packages\\tensorflow\\python\\framework\\op_def_library.py:263: colocate_with (from tensorflow.python.framework.ops) is deprecated and will be removed in a future version.\n",
      "Instructions for updating:\n",
      "Colocations handled automatically by placer.\n",
      "_________________________________________________________________\n",
      "Layer (type)                 Output Shape              Param #   \n",
      "=================================================================\n",
      "dense_1 (Dense)              (None, 32)                608       \n",
      "_________________________________________________________________\n",
      "dense_2 (Dense)              (None, 64)                2112      \n",
      "_________________________________________________________________\n",
      "dense_3 (Dense)              (None, 128)               8320      \n",
      "_________________________________________________________________\n",
      "dense_4 (Dense)              (None, 128)               16512     \n",
      "_________________________________________________________________\n",
      "dense_5 (Dense)              (None, 128)               16512     \n",
      "_________________________________________________________________\n",
      "dense_6 (Dense)              (None, 1)                 129       \n",
      "=================================================================\n",
      "Total params: 44,193\n",
      "Trainable params: 44,193\n",
      "Non-trainable params: 0\n",
      "_________________________________________________________________\n"
     ]
    }
   ],
   "source": [
    "NN_model = Sequential()\n",
    "\n",
    "# The Input Layer :\n",
    "NN_model.add(Dense(32, kernel_initializer='normal',input_dim = train_X.shape[1], activation='relu'))\n",
    "\n",
    "# The Hidden Layers :\n",
    "#NN_model.add(Dense(64, kernel_initializer='normal',activation='relu'))\n",
    "#NN_model.add(Dense(64, kernel_initializer='normal',activation='relu'))\n",
    "NN_model.add(Dense(64, kernel_initializer='normal',activation='relu'))\n",
    "NN_model.add(Dense(128, kernel_initializer='normal',activation='relu'))\n",
    "NN_model.add(Dense(128, kernel_initializer='normal',activation='relu'))\n",
    "NN_model.add(Dense(128, kernel_initializer='normal',activation='relu'))\n",
    "\n",
    "# The Output Layer :\n",
    "NN_model.add(Dense(1, kernel_initializer='normal',activation='linear'))\n",
    "\n",
    "# Compile the network :\n",
    "#NN_model.compile(loss='mean_absolute_error', optimizer='adam', metrics=['mean_absolute_error'])\n",
    "NN_model.summary()"
   ]
  },
  {
   "cell_type": "code",
   "execution_count": 48,
   "metadata": {},
   "outputs": [
    {
     "name": "stdout",
     "output_type": "stream",
     "text": [
      "Train on 14028 samples, validate on 3508 samples\n",
      "Epoch 1/30\n",
      "14028/14028 [==============================] - 2s 149us/step - loss: 1336.5200 - val_loss: 1421.2619\n",
      "Epoch 2/30\n",
      "14028/14028 [==============================] - 1s 100us/step - loss: 1339.7453 - val_loss: 1384.4057\n",
      "Epoch 3/30\n",
      "14028/14028 [==============================] - 1s 102us/step - loss: 1324.1006 - val_loss: 1361.8247\n",
      "Epoch 4/30\n",
      "14028/14028 [==============================] - 1s 96us/step - loss: 1318.5148 - val_loss: 1373.1921\n",
      "Epoch 5/30\n",
      "14028/14028 [==============================] - 1s 97us/step - loss: 1325.4880 - val_loss: 1375.8630\n",
      "Epoch 6/30\n",
      "14028/14028 [==============================] - 1s 102us/step - loss: 1324.5616 - val_loss: 1358.3411\n",
      "Epoch 7/30\n",
      "14028/14028 [==============================] - 1s 103us/step - loss: 1326.9310 - val_loss: 1357.3564\n",
      "Epoch 8/30\n",
      "14028/14028 [==============================] - 1s 93us/step - loss: 1335.3459 - val_loss: 1475.7237\n",
      "Epoch 9/30\n",
      "14028/14028 [==============================] - 1s 102us/step - loss: 1313.7403 - val_loss: 1373.0813\n",
      "Epoch 10/30\n",
      "14028/14028 [==============================] - 1s 102us/step - loss: 1318.9378 - val_loss: 1344.5268\n",
      "Epoch 11/30\n",
      "14028/14028 [==============================] - 1s 100us/step - loss: 1318.0336 - val_loss: 1414.0437\n",
      "Epoch 12/30\n",
      "14028/14028 [==============================] - 1s 104us/step - loss: 1302.4066 - val_loss: 1440.5871\n",
      "Epoch 13/30\n",
      "14028/14028 [==============================] - 1s 103us/step - loss: 1315.9455 - val_loss: 1696.8107\n",
      "Epoch 14/30\n",
      "14028/14028 [==============================] - 1s 102us/step - loss: 1307.7453 - val_loss: 1334.5485\n",
      "Epoch 15/30\n",
      "14028/14028 [==============================] - 2s 114us/step - loss: 1307.7582 - val_loss: 1352.0036\n",
      "Epoch 16/30\n",
      "14028/14028 [==============================] - 1s 106us/step - loss: 1309.4332 - val_loss: 1328.8948\n",
      "Epoch 17/30\n",
      "14028/14028 [==============================] - 1s 101us/step - loss: 1300.3412 - val_loss: 1414.4027\n",
      "Epoch 18/30\n",
      "14028/14028 [==============================] - 1s 99us/step - loss: 1309.1373 - val_loss: 1353.0171\n",
      "Epoch 19/30\n",
      "14028/14028 [==============================] - 2s 117us/step - loss: 1285.2358 - val_loss: 1328.4946\n",
      "Epoch 20/30\n",
      "14028/14028 [==============================] - 1s 105us/step - loss: 1290.1864 - val_loss: 1328.2516\n",
      "Epoch 21/30\n",
      "14028/14028 [==============================] - 1s 98us/step - loss: 1308.4861 - val_loss: 1357.1883\n",
      "Epoch 22/30\n",
      "14028/14028 [==============================] - 1s 99us/step - loss: 1289.0190 - val_loss: 1333.3287\n",
      "Epoch 23/30\n",
      "14028/14028 [==============================] - 2s 112us/step - loss: 1291.0325 - val_loss: 1324.5585\n",
      "Epoch 24/30\n",
      "14028/14028 [==============================] - 2s 127us/step - loss: 1287.5902 - val_loss: 1333.4269\n",
      "Epoch 25/30\n",
      "14028/14028 [==============================] - 1s 102us/step - loss: 1286.5935 - val_loss: 1322.7763\n",
      "Epoch 26/30\n",
      "14028/14028 [==============================] - 2s 112us/step - loss: 1277.5082 - val_loss: 1333.2732\n",
      "Epoch 27/30\n",
      "14028/14028 [==============================] - 2s 111us/step - loss: 1288.0804 - val_loss: 1325.3670\n",
      "Epoch 28/30\n",
      "14028/14028 [==============================] - 1s 97us/step - loss: 1286.8200 - val_loss: 1369.2181\n",
      "Epoch 29/30\n",
      "14028/14028 [==============================] - 1s 100us/step - loss: 1287.2897 - val_loss: 1350.5770\n",
      "Epoch 30/30\n",
      "14028/14028 [==============================] - 1s 99us/step - loss: 1286.3218 - val_loss: 1357.9986\n",
      "Saved model to disk\n"
     ]
    }
   ],
   "source": [
    "from keras.callbacks import EarlyStopping\n",
    "#set early stopping monitor so the model stops training when it won't improve anymore\n",
    "early_stopping_monitor = EarlyStopping(patience=5)\n",
    "\n",
    "#compile model using mse as a measure of model performance\n",
    "NN_model.compile(optimizer='adam', loss='mean_squared_error')\n",
    "#train model\n",
    "NN_model.fit(train_X, train_Y, validation_split=0.2, epochs=30, callbacks=[early_stopping_monitor])\n",
    "\n",
    "# save model and architecture to single file\n",
    "NN_model.save(\"Model/NNmodel_weights.h5\")\n",
    "print(\"Saved model to disk\")"
   ]
  },
  {
   "cell_type": "code",
   "execution_count": 51,
   "metadata": {},
   "outputs": [],
   "source": [
    "wights_file = 'Model/NNmodel_weights.h5' # choose the best checkpoint \n",
    "NN_model.load_weights(wights_file) # load it\n",
    "NN_model.compile(loss='mean_absolute_error', optimizer='adam', metrics=['mean_absolute_error'])"
   ]
  },
  {
   "cell_type": "code",
   "execution_count": 52,
   "metadata": {},
   "outputs": [],
   "source": [
    "nnmodel_pred = NN_model.predict(test_X)\n",
    "model_perf_nn = createOutParam('NN_Model', test_X, test_Y, nnmodel_pred)"
   ]
  },
  {
   "cell_type": "code",
   "execution_count": 57,
   "metadata": {},
   "outputs": [],
   "source": [
    "model_perf.append(model_perf_nn)\n",
    "Model_Compare = pd.DataFrame(model_perf)\n",
    "Model_Compare.drop_duplicates(subset=None, keep='first', inplace=True)"
   ]
  },
  {
   "cell_type": "code",
   "execution_count": 58,
   "metadata": {},
   "outputs": [
    {
     "data": {
      "text/html": [
       "<style  type=\"text/css\" >\n",
       "    #T_2596586c_b69c_11ea_80d8_707781bf9510row0_col1 {\n",
       "            background-color:  #08316d;\n",
       "            color:  #f1f1f1;\n",
       "        }    #T_2596586c_b69c_11ea_80d8_707781bf9510row0_col2 {\n",
       "            background-color:  #08316d;\n",
       "            color:  #f1f1f1;\n",
       "        }    #T_2596586c_b69c_11ea_80d8_707781bf9510row0_col3 {\n",
       "            background-color:  #e0ecf8;\n",
       "            color:  #000000;\n",
       "        }    #T_2596586c_b69c_11ea_80d8_707781bf9510row0_col4 {\n",
       "            background-color:  #f6faff;\n",
       "            color:  #000000;\n",
       "        }    #T_2596586c_b69c_11ea_80d8_707781bf9510row0_col5 {\n",
       "            background-color:  #f6faff;\n",
       "            color:  #000000;\n",
       "        }    #T_2596586c_b69c_11ea_80d8_707781bf9510row0_col6 {\n",
       "            background-color:  #f2f8fd;\n",
       "            color:  #000000;\n",
       "        }    #T_2596586c_b69c_11ea_80d8_707781bf9510row0_col7 {\n",
       "            background-color:  #f5fafe;\n",
       "            color:  #000000;\n",
       "        }    #T_2596586c_b69c_11ea_80d8_707781bf9510row1_col1 {\n",
       "            background-color:  #f7fbff;\n",
       "            color:  #000000;\n",
       "        }    #T_2596586c_b69c_11ea_80d8_707781bf9510row1_col2 {\n",
       "            background-color:  #f7fbff;\n",
       "            color:  #000000;\n",
       "        }    #T_2596586c_b69c_11ea_80d8_707781bf9510row1_col3 {\n",
       "            background-color:  #1f6eb3;\n",
       "            color:  #f1f1f1;\n",
       "        }    #T_2596586c_b69c_11ea_80d8_707781bf9510row1_col4 {\n",
       "            background-color:  #08306b;\n",
       "            color:  #f1f1f1;\n",
       "        }    #T_2596586c_b69c_11ea_80d8_707781bf9510row1_col5 {\n",
       "            background-color:  #08306b;\n",
       "            color:  #f1f1f1;\n",
       "        }    #T_2596586c_b69c_11ea_80d8_707781bf9510row1_col6 {\n",
       "            background-color:  #08306b;\n",
       "            color:  #f1f1f1;\n",
       "        }    #T_2596586c_b69c_11ea_80d8_707781bf9510row1_col7 {\n",
       "            background-color:  #08306b;\n",
       "            color:  #f1f1f1;\n",
       "        }    #T_2596586c_b69c_11ea_80d8_707781bf9510row2_col1 {\n",
       "            background-color:  #95c5df;\n",
       "            color:  #000000;\n",
       "        }    #T_2596586c_b69c_11ea_80d8_707781bf9510row2_col2 {\n",
       "            background-color:  #64a9d3;\n",
       "            color:  #000000;\n",
       "        }    #T_2596586c_b69c_11ea_80d8_707781bf9510row2_col3 {\n",
       "            background-color:  #08306b;\n",
       "            color:  #f1f1f1;\n",
       "        }    #T_2596586c_b69c_11ea_80d8_707781bf9510row2_col4 {\n",
       "            background-color:  #c1d9ed;\n",
       "            color:  #000000;\n",
       "        }    #T_2596586c_b69c_11ea_80d8_707781bf9510row2_col5 {\n",
       "            background-color:  #4997c9;\n",
       "            color:  #000000;\n",
       "        }    #T_2596586c_b69c_11ea_80d8_707781bf9510row2_col6 {\n",
       "            background-color:  #eef5fc;\n",
       "            color:  #000000;\n",
       "        }    #T_2596586c_b69c_11ea_80d8_707781bf9510row2_col7 {\n",
       "            background-color:  #4493c7;\n",
       "            color:  #000000;\n",
       "        }    #T_2596586c_b69c_11ea_80d8_707781bf9510row3_col1 {\n",
       "            background-color:  #084488;\n",
       "            color:  #f1f1f1;\n",
       "        }    #T_2596586c_b69c_11ea_80d8_707781bf9510row3_col2 {\n",
       "            background-color:  #084488;\n",
       "            color:  #f1f1f1;\n",
       "        }    #T_2596586c_b69c_11ea_80d8_707781bf9510row3_col3 {\n",
       "            background-color:  #bcd7eb;\n",
       "            color:  #000000;\n",
       "        }    #T_2596586c_b69c_11ea_80d8_707781bf9510row3_col4 {\n",
       "            background-color:  #ebf3fb;\n",
       "            color:  #000000;\n",
       "        }    #T_2596586c_b69c_11ea_80d8_707781bf9510row3_col5 {\n",
       "            background-color:  #e8f1fa;\n",
       "            color:  #000000;\n",
       "        }    #T_2596586c_b69c_11ea_80d8_707781bf9510row3_col6 {\n",
       "            background-color:  #f6faff;\n",
       "            color:  #000000;\n",
       "        }    #T_2596586c_b69c_11ea_80d8_707781bf9510row3_col7 {\n",
       "            background-color:  #e7f1fa;\n",
       "            color:  #000000;\n",
       "        }    #T_2596586c_b69c_11ea_80d8_707781bf9510row4_col1 {\n",
       "            background-color:  #0e58a2;\n",
       "            color:  #f1f1f1;\n",
       "        }    #T_2596586c_b69c_11ea_80d8_707781bf9510row4_col2 {\n",
       "            background-color:  #0d57a1;\n",
       "            color:  #f1f1f1;\n",
       "        }    #T_2596586c_b69c_11ea_80d8_707781bf9510row4_col3 {\n",
       "            background-color:  #66abd4;\n",
       "            color:  #000000;\n",
       "        }    #T_2596586c_b69c_11ea_80d8_707781bf9510row4_col4 {\n",
       "            background-color:  #dce9f6;\n",
       "            color:  #000000;\n",
       "        }    #T_2596586c_b69c_11ea_80d8_707781bf9510row4_col5 {\n",
       "            background-color:  #d9e7f5;\n",
       "            color:  #000000;\n",
       "        }    #T_2596586c_b69c_11ea_80d8_707781bf9510row4_col6 {\n",
       "            background-color:  #dbe9f6;\n",
       "            color:  #000000;\n",
       "        }    #T_2596586c_b69c_11ea_80d8_707781bf9510row4_col7 {\n",
       "            background-color:  #d6e6f4;\n",
       "            color:  #000000;\n",
       "        }    #T_2596586c_b69c_11ea_80d8_707781bf9510row5_col1 {\n",
       "            background-color:  #99c7e0;\n",
       "            color:  #000000;\n",
       "        }    #T_2596586c_b69c_11ea_80d8_707781bf9510row5_col2 {\n",
       "            background-color:  #85bcdc;\n",
       "            color:  #000000;\n",
       "        }    #T_2596586c_b69c_11ea_80d8_707781bf9510row5_col3 {\n",
       "            background-color:  #f7fbff;\n",
       "            color:  #000000;\n",
       "        }    #T_2596586c_b69c_11ea_80d8_707781bf9510row5_col4 {\n",
       "            background-color:  #3484bf;\n",
       "            color:  #000000;\n",
       "        }    #T_2596586c_b69c_11ea_80d8_707781bf9510row5_col5 {\n",
       "            background-color:  #4695c8;\n",
       "            color:  #000000;\n",
       "        }    #T_2596586c_b69c_11ea_80d8_707781bf9510row5_col6 {\n",
       "            background-color:  #5fa6d1;\n",
       "            color:  #000000;\n",
       "        }    #T_2596586c_b69c_11ea_80d8_707781bf9510row5_col7 {\n",
       "            background-color:  #4191c6;\n",
       "            color:  #000000;\n",
       "        }    #T_2596586c_b69c_11ea_80d8_707781bf9510row6_col1 {\n",
       "            background-color:  #08458a;\n",
       "            color:  #f1f1f1;\n",
       "        }    #T_2596586c_b69c_11ea_80d8_707781bf9510row6_col2 {\n",
       "            background-color:  #08458a;\n",
       "            color:  #f1f1f1;\n",
       "        }    #T_2596586c_b69c_11ea_80d8_707781bf9510row6_col3 {\n",
       "            background-color:  #c4daee;\n",
       "            color:  #000000;\n",
       "        }    #T_2596586c_b69c_11ea_80d8_707781bf9510row6_col4 {\n",
       "            background-color:  #eaf3fb;\n",
       "            color:  #000000;\n",
       "        }    #T_2596586c_b69c_11ea_80d8_707781bf9510row6_col5 {\n",
       "            background-color:  #e7f1fa;\n",
       "            color:  #000000;\n",
       "        }    #T_2596586c_b69c_11ea_80d8_707781bf9510row6_col6 {\n",
       "            background-color:  #eff6fc;\n",
       "            color:  #000000;\n",
       "        }    #T_2596586c_b69c_11ea_80d8_707781bf9510row6_col7 {\n",
       "            background-color:  #e7f0fa;\n",
       "            color:  #000000;\n",
       "        }    #T_2596586c_b69c_11ea_80d8_707781bf9510row7_col1 {\n",
       "            background-color:  #084082;\n",
       "            color:  #f1f1f1;\n",
       "        }    #T_2596586c_b69c_11ea_80d8_707781bf9510row7_col2 {\n",
       "            background-color:  #084082;\n",
       "            color:  #f1f1f1;\n",
       "        }    #T_2596586c_b69c_11ea_80d8_707781bf9510row7_col3 {\n",
       "            background-color:  #a9cfe5;\n",
       "            color:  #000000;\n",
       "        }    #T_2596586c_b69c_11ea_80d8_707781bf9510row7_col4 {\n",
       "            background-color:  #ebf3fb;\n",
       "            color:  #000000;\n",
       "        }    #T_2596586c_b69c_11ea_80d8_707781bf9510row7_col5 {\n",
       "            background-color:  #ebf3fb;\n",
       "            color:  #000000;\n",
       "        }    #T_2596586c_b69c_11ea_80d8_707781bf9510row7_col6 {\n",
       "            background-color:  #eef5fc;\n",
       "            color:  #000000;\n",
       "        }    #T_2596586c_b69c_11ea_80d8_707781bf9510row7_col7 {\n",
       "            background-color:  #eaf3fb;\n",
       "            color:  #000000;\n",
       "        }    #T_2596586c_b69c_11ea_80d8_707781bf9510row8_col1 {\n",
       "            background-color:  #08306b;\n",
       "            color:  #f1f1f1;\n",
       "        }    #T_2596586c_b69c_11ea_80d8_707781bf9510row8_col2 {\n",
       "            background-color:  #08306b;\n",
       "            color:  #f1f1f1;\n",
       "        }    #T_2596586c_b69c_11ea_80d8_707781bf9510row8_col3 {\n",
       "            background-color:  #c4daee;\n",
       "            color:  #000000;\n",
       "        }    #T_2596586c_b69c_11ea_80d8_707781bf9510row8_col4 {\n",
       "            background-color:  #f7fbff;\n",
       "            color:  #000000;\n",
       "        }    #T_2596586c_b69c_11ea_80d8_707781bf9510row8_col5 {\n",
       "            background-color:  #f7fbff;\n",
       "            color:  #000000;\n",
       "        }    #T_2596586c_b69c_11ea_80d8_707781bf9510row8_col6 {\n",
       "            background-color:  #f7fbff;\n",
       "            color:  #000000;\n",
       "        }    #T_2596586c_b69c_11ea_80d8_707781bf9510row8_col7 {\n",
       "            background-color:  #f7fbff;\n",
       "            color:  #000000;\n",
       "        }    #T_2596586c_b69c_11ea_80d8_707781bf9510row9_col1 {\n",
       "            background-color:  #084e98;\n",
       "            color:  #f1f1f1;\n",
       "        }    #T_2596586c_b69c_11ea_80d8_707781bf9510row9_col2 {\n",
       "            background-color:  #083573;\n",
       "            color:  #f1f1f1;\n",
       "        }    #T_2596586c_b69c_11ea_80d8_707781bf9510row9_col3 {\n",
       "            background-color:  #f7fbff;\n",
       "            color:  #000000;\n",
       "        }    #T_2596586c_b69c_11ea_80d8_707781bf9510row9_col4 {\n",
       "            background-color:  #cde0f1;\n",
       "            color:  #000000;\n",
       "        }    #T_2596586c_b69c_11ea_80d8_707781bf9510row9_col5 {\n",
       "            background-color:  #e0ecf8;\n",
       "            color:  #000000;\n",
       "        }    #T_2596586c_b69c_11ea_80d8_707781bf9510row9_col6 {\n",
       "            background-color:  #c3daee;\n",
       "            color:  #000000;\n",
       "        }    #T_2596586c_b69c_11ea_80d8_707781bf9510row9_col7 {\n",
       "            background-color:  #dfebf7;\n",
       "            color:  #000000;\n",
       "        }</style><table id=\"T_2596586c_b69c_11ea_80d8_707781bf9510\" ><thead>    <tr>        <th class=\"blank level0\" ></th>        <th class=\"col_heading level0 col0\" >ModelName</th>        <th class=\"col_heading level0 col1\" >R_squared</th>        <th class=\"col_heading level0 col2\" >explained_variance</th>        <th class=\"col_heading level0 col3\" >max_error</th>        <th class=\"col_heading level0 col4\" >mean_absolute_error</th>        <th class=\"col_heading level0 col5\" >mean_squared_error</th>        <th class=\"col_heading level0 col6\" >median_absolute_error</th>        <th class=\"col_heading level0 col7\" >root_mean_squared_error</th>    </tr></thead><tbody>\n",
       "                <tr>\n",
       "                        <th id=\"T_2596586c_b69c_11ea_80d8_707781bf9510level0_row0\" class=\"row_heading level0 row0\" >0</th>\n",
       "                        <td id=\"T_2596586c_b69c_11ea_80d8_707781bf9510row0_col0\" class=\"data row0 col0\" >RandomForestRegressor</td>\n",
       "                        <td id=\"T_2596586c_b69c_11ea_80d8_707781bf9510row0_col1\" class=\"data row0 col1\" >0.725298</td>\n",
       "                        <td id=\"T_2596586c_b69c_11ea_80d8_707781bf9510row0_col2\" class=\"data row0 col2\" >0.725316</td>\n",
       "                        <td id=\"T_2596586c_b69c_11ea_80d8_707781bf9510row0_col3\" class=\"data row0 col3\" >156.998</td>\n",
       "                        <td id=\"T_2596586c_b69c_11ea_80d8_707781bf9510row0_col4\" class=\"data row0 col4\" >25.2857</td>\n",
       "                        <td id=\"T_2596586c_b69c_11ea_80d8_707781bf9510row0_col5\" class=\"data row0 col5\" >1286.81</td>\n",
       "                        <td id=\"T_2596586c_b69c_11ea_80d8_707781bf9510row0_col6\" class=\"data row0 col6\" >17.4999</td>\n",
       "                        <td id=\"T_2596586c_b69c_11ea_80d8_707781bf9510row0_col7\" class=\"data row0 col7\" >35.8721</td>\n",
       "            </tr>\n",
       "            <tr>\n",
       "                        <th id=\"T_2596586c_b69c_11ea_80d8_707781bf9510level0_row1\" class=\"row_heading level0 row1\" >1</th>\n",
       "                        <td id=\"T_2596586c_b69c_11ea_80d8_707781bf9510row1_col0\" class=\"data row1 col0\" >ElasticNet</td>\n",
       "                        <td id=\"T_2596586c_b69c_11ea_80d8_707781bf9510row1_col1\" class=\"data row1 col1\" >0.648486</td>\n",
       "                        <td id=\"T_2596586c_b69c_11ea_80d8_707781bf9510row1_col2\" class=\"data row1 col2\" >0.648487</td>\n",
       "                        <td id=\"T_2596586c_b69c_11ea_80d8_707781bf9510row1_col3\" class=\"data row1 col3\" >175.465</td>\n",
       "                        <td id=\"T_2596586c_b69c_11ea_80d8_707781bf9510row1_col4\" class=\"data row1 col4\" >31.1589</td>\n",
       "                        <td id=\"T_2596586c_b69c_11ea_80d8_707781bf9510row1_col5\" class=\"data row1 col5\" >1646.63</td>\n",
       "                        <td id=\"T_2596586c_b69c_11ea_80d8_707781bf9510row1_col6\" class=\"data row1 col6\" >25.9823</td>\n",
       "                        <td id=\"T_2596586c_b69c_11ea_80d8_707781bf9510row1_col7\" class=\"data row1 col7\" >40.5786</td>\n",
       "            </tr>\n",
       "            <tr>\n",
       "                        <th id=\"T_2596586c_b69c_11ea_80d8_707781bf9510level0_row2\" class=\"row_heading level0 row2\" >2</th>\n",
       "                        <td id=\"T_2596586c_b69c_11ea_80d8_707781bf9510row2_col0\" class=\"data row2 col0\" >SVM_Regressor</td>\n",
       "                        <td id=\"T_2596586c_b69c_11ea_80d8_707781bf9510row2_col1\" class=\"data row2 col1\" >0.679144</td>\n",
       "                        <td id=\"T_2596586c_b69c_11ea_80d8_707781bf9510row2_col2\" class=\"data row2 col2\" >0.688798</td>\n",
       "                        <td id=\"T_2596586c_b69c_11ea_80d8_707781bf9510row2_col3\" class=\"data row2 col3\" >182.324</td>\n",
       "                        <td id=\"T_2596586c_b69c_11ea_80d8_707781bf9510row2_col4\" class=\"data row2 col4\" >26.8343</td>\n",
       "                        <td id=\"T_2596586c_b69c_11ea_80d8_707781bf9510row2_col5\" class=\"data row2 col5\" >1503.01</td>\n",
       "                        <td id=\"T_2596586c_b69c_11ea_80d8_707781bf9510row2_col6\" class=\"data row2 col6\" >17.6821</td>\n",
       "                        <td id=\"T_2596586c_b69c_11ea_80d8_707781bf9510row2_col7\" class=\"data row2 col7\" >38.7687</td>\n",
       "            </tr>\n",
       "            <tr>\n",
       "                        <th id=\"T_2596586c_b69c_11ea_80d8_707781bf9510level0_row3\" class=\"row_heading level0 row3\" >3</th>\n",
       "                        <td id=\"T_2596586c_b69c_11ea_80d8_707781bf9510row3_col0\" class=\"data row3 col0\" >GradientBoostingRegressor</td>\n",
       "                        <td id=\"T_2596586c_b69c_11ea_80d8_707781bf9510row3_col1\" class=\"data row3 col1\" >0.720121</td>\n",
       "                        <td id=\"T_2596586c_b69c_11ea_80d8_707781bf9510row3_col2\" class=\"data row3 col2\" >0.720137</td>\n",
       "                        <td id=\"T_2596586c_b69c_11ea_80d8_707781bf9510row3_col3\" class=\"data row3 col3\" >161.785</td>\n",
       "                        <td id=\"T_2596586c_b69c_11ea_80d8_707781bf9510row3_col4\" class=\"data row3 col4\" >25.6118</td>\n",
       "                        <td id=\"T_2596586c_b69c_11ea_80d8_707781bf9510row3_col5\" class=\"data row3 col5\" >1311.06</td>\n",
       "                        <td id=\"T_2596586c_b69c_11ea_80d8_707781bf9510row3_col6\" class=\"data row3 col6\" >17.3578</td>\n",
       "                        <td id=\"T_2596586c_b69c_11ea_80d8_707781bf9510row3_col7\" class=\"data row3 col7\" >36.2086</td>\n",
       "            </tr>\n",
       "            <tr>\n",
       "                        <th id=\"T_2596586c_b69c_11ea_80d8_707781bf9510level0_row4\" class=\"row_heading level0 row4\" >4</th>\n",
       "                        <td id=\"T_2596586c_b69c_11ea_80d8_707781bf9510row4_col0\" class=\"data row4 col0\" >VotingRegressor</td>\n",
       "                        <td id=\"T_2596586c_b69c_11ea_80d8_707781bf9510row4_col1\" class=\"data row4 col1\" >0.713834</td>\n",
       "                        <td id=\"T_2596586c_b69c_11ea_80d8_707781bf9510row4_col2\" class=\"data row4 col2\" >0.714342</td>\n",
       "                        <td id=\"T_2596586c_b69c_11ea_80d8_707781bf9510row4_col3\" class=\"data row4 col3\" >168.442</td>\n",
       "                        <td id=\"T_2596586c_b69c_11ea_80d8_707781bf9510row4_col4\" class=\"data row4 col4\" >26.0709</td>\n",
       "                        <td id=\"T_2596586c_b69c_11ea_80d8_707781bf9510row4_col5\" class=\"data row4 col5\" >1340.51</td>\n",
       "                        <td id=\"T_2596586c_b69c_11ea_80d8_707781bf9510row4_col6\" class=\"data row4 col6\" >18.521</td>\n",
       "                        <td id=\"T_2596586c_b69c_11ea_80d8_707781bf9510row4_col7\" class=\"data row4 col7\" >36.613</td>\n",
       "            </tr>\n",
       "            <tr>\n",
       "                        <th id=\"T_2596586c_b69c_11ea_80d8_707781bf9510level0_row5\" class=\"row_heading level0 row5\" >5</th>\n",
       "                        <td id=\"T_2596586c_b69c_11ea_80d8_707781bf9510row5_col0\" class=\"data row5 col0\" >AdaBoostRegressor</td>\n",
       "                        <td id=\"T_2596586c_b69c_11ea_80d8_707781bf9510row5_col1\" class=\"data row5 col1\" >0.678562</td>\n",
       "                        <td id=\"T_2596586c_b69c_11ea_80d8_707781bf9510row5_col2\" class=\"data row5 col2\" >0.682231</td>\n",
       "                        <td id=\"T_2596586c_b69c_11ea_80d8_707781bf9510row5_col3\" class=\"data row5 col3\" >153.791</td>\n",
       "                        <td id=\"T_2596586c_b69c_11ea_80d8_707781bf9510row5_col4\" class=\"data row5 col4\" >29.2608</td>\n",
       "                        <td id=\"T_2596586c_b69c_11ea_80d8_707781bf9510row5_col5\" class=\"data row5 col5\" >1505.74</td>\n",
       "                        <td id=\"T_2596586c_b69c_11ea_80d8_707781bf9510row5_col6\" class=\"data row5 col6\" >21.9434</td>\n",
       "                        <td id=\"T_2596586c_b69c_11ea_80d8_707781bf9510row5_col7\" class=\"data row5 col7\" >38.8038</td>\n",
       "            </tr>\n",
       "            <tr>\n",
       "                        <th id=\"T_2596586c_b69c_11ea_80d8_707781bf9510level0_row6\" class=\"row_heading level0 row6\" >6</th>\n",
       "                        <td id=\"T_2596586c_b69c_11ea_80d8_707781bf9510row6_col0\" class=\"data row6 col0\" >HistGradientBoostingRegressor</td>\n",
       "                        <td id=\"T_2596586c_b69c_11ea_80d8_707781bf9510row6_col1\" class=\"data row6 col1\" >0.719844</td>\n",
       "                        <td id=\"T_2596586c_b69c_11ea_80d8_707781bf9510row6_col2\" class=\"data row6 col2\" >0.719845</td>\n",
       "                        <td id=\"T_2596586c_b69c_11ea_80d8_707781bf9510row6_col3\" class=\"data row6 col3\" >160.998</td>\n",
       "                        <td id=\"T_2596586c_b69c_11ea_80d8_707781bf9510row6_col4\" class=\"data row6 col4\" >25.6477</td>\n",
       "                        <td id=\"T_2596586c_b69c_11ea_80d8_707781bf9510row6_col5\" class=\"data row6 col5\" >1312.36</td>\n",
       "                        <td id=\"T_2596586c_b69c_11ea_80d8_707781bf9510row6_col6\" class=\"data row6 col6\" >17.6453</td>\n",
       "                        <td id=\"T_2596586c_b69c_11ea_80d8_707781bf9510row6_col7\" class=\"data row6 col7\" >36.2265</td>\n",
       "            </tr>\n",
       "            <tr>\n",
       "                        <th id=\"T_2596586c_b69c_11ea_80d8_707781bf9510level0_row7\" class=\"row_heading level0 row7\" >7</th>\n",
       "                        <td id=\"T_2596586c_b69c_11ea_80d8_707781bf9510row7_col0\" class=\"data row7 col0\" >XGBoost</td>\n",
       "                        <td id=\"T_2596586c_b69c_11ea_80d8_707781bf9510row7_col1\" class=\"data row7 col1\" >0.721311</td>\n",
       "                        <td id=\"T_2596586c_b69c_11ea_80d8_707781bf9510row7_col2\" class=\"data row7 col2\" >0.721312</td>\n",
       "                        <td id=\"T_2596586c_b69c_11ea_80d8_707781bf9510row7_col3\" class=\"data row7 col3\" >163.441</td>\n",
       "                        <td id=\"T_2596586c_b69c_11ea_80d8_707781bf9510row7_col4\" class=\"data row7 col4\" >25.6129</td>\n",
       "                        <td id=\"T_2596586c_b69c_11ea_80d8_707781bf9510row7_col5\" class=\"data row7 col5\" >1305.49</td>\n",
       "                        <td id=\"T_2596586c_b69c_11ea_80d8_707781bf9510row7_col6\" class=\"data row7 col6\" >17.7259</td>\n",
       "                        <td id=\"T_2596586c_b69c_11ea_80d8_707781bf9510row7_col7\" class=\"data row7 col7\" >36.1315</td>\n",
       "            </tr>\n",
       "            <tr>\n",
       "                        <th id=\"T_2596586c_b69c_11ea_80d8_707781bf9510level0_row8\" class=\"row_heading level0 row8\" >8</th>\n",
       "                        <td id=\"T_2596586c_b69c_11ea_80d8_707781bf9510row8_col0\" class=\"data row8 col0\" >Stacking_Regressor</td>\n",
       "                        <td id=\"T_2596586c_b69c_11ea_80d8_707781bf9510row8_col1\" class=\"data row8 col1\" >0.725895</td>\n",
       "                        <td id=\"T_2596586c_b69c_11ea_80d8_707781bf9510row8_col2\" class=\"data row8 col2\" >0.725902</td>\n",
       "                        <td id=\"T_2596586c_b69c_11ea_80d8_707781bf9510row8_col3\" class=\"data row8 col3\" >160.989</td>\n",
       "                        <td id=\"T_2596586c_b69c_11ea_80d8_707781bf9510row8_col4\" class=\"data row8 col4\" >25.2591</td>\n",
       "                        <td id=\"T_2596586c_b69c_11ea_80d8_707781bf9510row8_col5\" class=\"data row8 col5\" >1284.01</td>\n",
       "                        <td id=\"T_2596586c_b69c_11ea_80d8_707781bf9510row8_col6\" class=\"data row8 col6\" >17.2931</td>\n",
       "                        <td id=\"T_2596586c_b69c_11ea_80d8_707781bf9510row8_col7\" class=\"data row8 col7\" >35.8331</td>\n",
       "            </tr>\n",
       "            <tr>\n",
       "                        <th id=\"T_2596586c_b69c_11ea_80d8_707781bf9510level0_row9\" class=\"row_heading level0 row9\" >9</th>\n",
       "                        <td id=\"T_2596586c_b69c_11ea_80d8_707781bf9510row9_col0\" class=\"data row9 col0\" >NN_Model</td>\n",
       "                        <td id=\"T_2596586c_b69c_11ea_80d8_707781bf9510row9_col1\" class=\"data row9 col1\" >0.716959</td>\n",
       "                        <td id=\"T_2596586c_b69c_11ea_80d8_707781bf9510row9_col2\" class=\"data row9 col2\" >0.724264</td>\n",
       "                        <td id=\"T_2596586c_b69c_11ea_80d8_707781bf9510row9_col3\" class=\"data row9 col3\" >153.694</td>\n",
       "                        <td id=\"T_2596586c_b69c_11ea_80d8_707781bf9510row9_col4\" class=\"data row9 col4\" >26.5151</td>\n",
       "                        <td id=\"T_2596586c_b69c_11ea_80d8_707781bf9510row9_col5\" class=\"data row9 col5\" >1325.87</td>\n",
       "                        <td id=\"T_2596586c_b69c_11ea_80d8_707781bf9510row9_col6\" class=\"data row9 col6\" >19.5354</td>\n",
       "                        <td id=\"T_2596586c_b69c_11ea_80d8_707781bf9510row9_col7\" class=\"data row9 col7\" >36.4125</td>\n",
       "            </tr>\n",
       "    </tbody></table>"
      ],
      "text/plain": [
       "<pandas.io.formats.style.Styler at 0x1cb156a9400>"
      ]
     },
     "execution_count": 58,
     "metadata": {},
     "output_type": "execute_result"
    }
   ],
   "source": [
    "Model_Compare.style.background_gradient(cmap='Blues')"
   ]
  },
  {
   "cell_type": "markdown",
   "metadata": {},
   "source": [
    "### Conclusion\n",
    "\n",
    "* ElastiNet Regressor is the worst performing Model\n",
    "* RandomForest Regressor and Stacking Regressor are the Best performing Models\n",
    "* Stacking Regressor has been chosen as the final Model\n"
   ]
  },
  {
   "cell_type": "code",
   "execution_count": null,
   "metadata": {},
   "outputs": [],
   "source": []
  }
 ],
 "metadata": {
  "kernelspec": {
   "display_name": "Python 3",
   "language": "python",
   "name": "python3"
  },
  "language_info": {
   "codemirror_mode": {
    "name": "ipython",
    "version": 3
   },
   "file_extension": ".py",
   "mimetype": "text/x-python",
   "name": "python",
   "nbconvert_exporter": "python",
   "pygments_lexer": "ipython3",
   "version": "3.7.0"
  }
 },
 "nbformat": 4,
 "nbformat_minor": 2
}
